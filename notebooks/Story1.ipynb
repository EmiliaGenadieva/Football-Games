{
 "cells": [
  {
   "attachments": {},
   "cell_type": "markdown",
   "metadata": {},
   "source": [
    "Begin 03/2020 & end 21/00"
   ]
  },
  {
   "cell_type": "code",
   "execution_count": 1,
   "metadata": {},
   "outputs": [
    {
     "name": "stdout",
     "output_type": "stream",
     "text": [
      "25\n"
     ]
    }
   ],
   "source": [
    "import pandas as pd\n",
    "\n",
    "clubs = pd.read_csv('/home/becode/Desktop/5#StoryTelling/data/clubs.csv')\n",
    "clubs[clubs['domestic_competition_id']=='BE1']\n",
    "print(len(clubs[clubs['domestic_competition_id']=='BE1']))\n",
    "belg_clubs = clubs[clubs['domestic_competition_id']=='BE1']"
   ]
  },
  {
   "cell_type": "code",
   "execution_count": 2,
   "metadata": {},
   "outputs": [
    {
     "name": "stdout",
     "output_type": "stream",
     "text": [
      "[  566  1411   204   498 29228 28643 41274  2715   475   354   601  3508\n",
      "   520  3057  3948   157    58  1096  1184  2861   968  2727  1245  2282\n",
      "   172]\n"
     ]
    },
    {
     "data": {
      "text/plain": [
       "array([  566,  1411,   204,   498, 29228, 28643, 41274,  2715,   475,\n",
       "         354,   601,  3508,   520,  3057,  3948,   157,    58,  1096,\n",
       "        1184,  2861,   968,  2727,  1245,  2282,   172])"
      ]
     },
     "execution_count": 2,
     "metadata": {},
     "output_type": "execute_result"
    }
   ],
   "source": [
    "print(belg_clubs['club_id'].values)\n",
    "belg_club_ids = belg_clubs['club_id'].values\n",
    "belg_club_ids"
   ]
  },
  {
   "cell_type": "code",
   "execution_count": 3,
   "metadata": {},
   "outputs": [],
   "source": [
    "import pandas as pd\n",
    "\n",
    "clubs = pd.read_csv('/home/becode/Desktop/5#StoryTelling/data/clubs.csv')\n",
    "#print(clubs[['name', 'club_id']].value_counts())\n",
    "all_clubs = clubs[clubs['club_id'].isin(belg_club_ids)]\n",
    "\n",
    "all_clubs.to_csv('clubs_belgium.csv')"
   ]
  },
  {
   "cell_type": "code",
   "execution_count": 4,
   "metadata": {},
   "outputs": [
    {
     "data": {
      "text/plain": [
       "player_id  name                 current_club_id  current_club_name     country_of_citizenship  country_of_birth       city_of_birth  date_of_birth  position  sub_position        foot   height_in_cm  market_value_in_eur  highest_market_value_in_eur  agent_name           contract_expiration_date  current_club_domestic_competition_id  first_name  last_name   player_code          image_url                                                                          last_season  url                                                                      \n",
       "4742       Christophe Lepoint   2715             Rfc Seraing           Belgium                 Belgium                Brussel        1984-10-24     Midfield  Central Midfield    Right  189           75000.0              1700000.0                    Eleven Plus          2023-06-30                BE1                                   Christophe  Lepoint     christophe-lepoint   https://img.a.transfermarkt.technology/portrait/header/4742-1487766974.jpg?lm=1    2022         https://www.transfermarkt.co.uk/christophe-lepoint/profil/spieler/4742       1\n",
       "434226     Darly N'Landu        29228            Royal Excel Mouscron  France                  France                 Creil          2000-07-14     Midfield  Central Midfield    Left   173           100000.0             450000.0                     USM GROUP            2024-06-30                BE1                                   Darly       N'Landu     darly-nlandu         https://img.a.transfermarkt.technology/portrait/header/434226-1595969935.jpg?lm=1  2020         https://www.transfermarkt.co.uk/darly-nlandu/profil/spieler/434226           1\n",
       "427653     Abou Ba              2715             Rfc Seraing           France                  France                 Saint-Dié      1998-07-29     Midfield  Defensive Midfield  Right  183           450000.0             600000.0                     N10                  2023-06-30                BE1                                   Abou        Ba          abou-ba              https://img.a.transfermarkt.technology/portrait/header/427653-1632460295.jpg?lm=1  2022         https://www.transfermarkt.co.uk/abou-ba/profil/spieler/427653                1\n",
       "428061     Riley McGree         2282             Fc Brugge             Australia               Australia              Gawler         1998-11-02     Midfield  Central Midfield    Left   178           2000000.0            2500000.0                    Unique Sports Group  2025-06-30                BE1                                   Riley       McGree      riley-mcgree         https://img.a.transfermarkt.technology/portrait/header/428061-1642195656.jpg?lm=1  2018         https://www.transfermarkt.co.uk/riley-mcgree/profil/spieler/428061           1\n",
       "429086     Nana Ampomah         1096             Royal Antwerpen Fc    Ghana                   Ghana                  Tema           1996-01-02     Attack    Left Winger         Right  174           250000.0             2500000.0                    Quadrans             2023-06-30                BE1                                   Nana        Ampomah     nana-ampomah         https://img.a.transfermarkt.technology/portrait/header/429086-1657114178.jpg?lm=1  2021         https://www.transfermarkt.co.uk/nana-ampomah/profil/spieler/429086           1\n",
       "                                                                                                                                                                                                                                                                                                                                                                                                                                                                                                                                                                       ..\n",
       "227532     Aleksandar Boljevic  3057             Standard Luttich      Montenegro              Yugoslavia (Republic)  Podgorica      1995-12-12     Attack    Right Winger        Right  185           400000.0             1700000.0                    Igor Gluscevic       2023-06-30                BE1                                   Aleksandar  Boljevic    aleksandar-boljevic  https://img.a.transfermarkt.technology/portrait/header/227532-1604911394.jpg?lm=1  2021         https://www.transfermarkt.co.uk/aleksandar-boljevic/profil/spieler/227532    1\n",
       "230985     Simen Jukleröd       1184             Krc Genk              Norway                  Norway                 Bærum          1994-05-18     Defender  Left-Back           Left   187           900000.0             2500000.0                    Keypass AS           2026-12-31                BE1                                   Simen       Jukleröd    simen-juklerod       https://img.a.transfermarkt.technology/portrait/header/230985-1616851466.jpg?lm=1  2021         https://www.transfermarkt.co.uk/simen-juklerod/profil/spieler/230985         1\n",
       "232848     Samuel Asamoah       475              Vv St Truiden         Togo                    Ghana                  Accra          1994-03-23     Midfield  Central Midfield    Right  166           850000.0             1300000.0                    Invicti Group        2023-06-30                BE1                                   Samuel      Asamoah     samuel-asamoah       https://img.a.transfermarkt.technology/portrait/header/232848-1662106480.JPG?lm=1  2020         https://www.transfermarkt.co.uk/samuel-asamoah/profil/spieler/232848         1\n",
       "234193     Birger Verstraete    354              Kv Mechelen           Belgium                 Belgium                Oostende       1994-04-16     Midfield  Defensive Midfield  Right  174           2000000.0            4000000.0                    SportPlus            2023-06-30                BE1                                   Birger      Verstraete  birger-verstraete    https://img.a.transfermarkt.technology/portrait/header/234193-1608908875.jpg?lm=1  2022         https://www.transfermarkt.co.uk/birger-verstraete/profil/spieler/234193      1\n",
       "974374     Anthony Valencia     1096             Royal Antwerpen Fc    Ecuador                 Ecuador                Guayaquil      2003-07-21     Attack    Right Winger        Left   174           1200000.0            1200000.0                    Kancha Agency        2026-06-30                BE1                                   Anthony     Valencia    anthony-valencia     https://img.a.transfermarkt.technology/portrait/header/974374-1659086874.jpg?lm=1  2022         https://www.transfermarkt.co.uk/anthony-valencia/profil/spieler/974374       1\n",
       "Length: 617, dtype: int64"
      ]
     },
     "execution_count": 4,
     "metadata": {},
     "output_type": "execute_result"
    }
   ],
   "source": [
    "club_id = 41274\n",
    "players = pd.read_csv('/home/becode/Desktop/5#StoryTelling/data/players.csv')\n",
    "belgium_players = players[players['current_club_id'].isin(belg_club_ids)]\n",
    "belgium_players.to_csv('players_belgium.csv')\n",
    "belgium_players.value_counts()"
   ]
  },
  {
   "cell_type": "code",
   "execution_count": 5,
   "metadata": {},
   "outputs": [
    {
     "data": {
      "text/plain": [
       "numpy.ndarray"
      ]
     },
     "execution_count": 5,
     "metadata": {},
     "output_type": "execute_result"
    }
   ],
   "source": [
    "belgium_players_ids = belgium_players['player_id']\n",
    "type(belgium_players_ids.values)"
   ]
  },
  {
   "cell_type": "code",
   "execution_count": 6,
   "metadata": {},
   "outputs": [
    {
     "data": {
      "text/html": [
       "<div>\n",
       "<style scoped>\n",
       "    .dataframe tbody tr th:only-of-type {\n",
       "        vertical-align: middle;\n",
       "    }\n",
       "\n",
       "    .dataframe tbody tr th {\n",
       "        vertical-align: top;\n",
       "    }\n",
       "\n",
       "    .dataframe thead th {\n",
       "        text-align: right;\n",
       "    }\n",
       "</style>\n",
       "<table border=\"1\" class=\"dataframe\">\n",
       "  <thead>\n",
       "    <tr style=\"text-align: right;\">\n",
       "      <th></th>\n",
       "      <th>date</th>\n",
       "      <th>datetime</th>\n",
       "      <th>dateweek</th>\n",
       "      <th>player_id</th>\n",
       "      <th>current_club_id</th>\n",
       "      <th>market_value_in_eur</th>\n",
       "      <th>player_club_domestic_competition_id</th>\n",
       "    </tr>\n",
       "  </thead>\n",
       "  <tbody>\n",
       "    <tr>\n",
       "      <th>31</th>\n",
       "      <td>2008-08-04</td>\n",
       "      <td>2008-08-04</td>\n",
       "      <td>2008-08-04</td>\n",
       "      <td>78820</td>\n",
       "      <td>354</td>\n",
       "      <td>350000</td>\n",
       "      <td>BE1</td>\n",
       "    </tr>\n",
       "    <tr>\n",
       "      <th>32</th>\n",
       "      <td>2008-10-27</td>\n",
       "      <td>2008-10-27</td>\n",
       "      <td>2008-10-27</td>\n",
       "      <td>78820</td>\n",
       "      <td>354</td>\n",
       "      <td>600000</td>\n",
       "      <td>BE1</td>\n",
       "    </tr>\n",
       "    <tr>\n",
       "      <th>33</th>\n",
       "      <td>2009-01-28</td>\n",
       "      <td>2009-01-28</td>\n",
       "      <td>2009-01-26</td>\n",
       "      <td>78820</td>\n",
       "      <td>354</td>\n",
       "      <td>1000000</td>\n",
       "      <td>BE1</td>\n",
       "    </tr>\n",
       "    <tr>\n",
       "      <th>34</th>\n",
       "      <td>2009-05-29</td>\n",
       "      <td>2009-05-29</td>\n",
       "      <td>2009-05-25</td>\n",
       "      <td>78820</td>\n",
       "      <td>354</td>\n",
       "      <td>1700000</td>\n",
       "      <td>BE1</td>\n",
       "    </tr>\n",
       "    <tr>\n",
       "      <th>35</th>\n",
       "      <td>2010-03-09</td>\n",
       "      <td>2010-03-09</td>\n",
       "      <td>2010-03-08</td>\n",
       "      <td>78820</td>\n",
       "      <td>354</td>\n",
       "      <td>1500000</td>\n",
       "      <td>BE1</td>\n",
       "    </tr>\n",
       "    <tr>\n",
       "      <th>...</th>\n",
       "      <td>...</td>\n",
       "      <td>...</td>\n",
       "      <td>...</td>\n",
       "      <td>...</td>\n",
       "      <td>...</td>\n",
       "      <td>...</td>\n",
       "      <td>...</td>\n",
       "    </tr>\n",
       "    <tr>\n",
       "      <th>405038</th>\n",
       "      <td>2021-03-17</td>\n",
       "      <td>2021-03-17</td>\n",
       "      <td>2021-03-15</td>\n",
       "      <td>649035</td>\n",
       "      <td>172</td>\n",
       "      <td>3500000</td>\n",
       "      <td>BE1</td>\n",
       "    </tr>\n",
       "    <tr>\n",
       "      <th>405039</th>\n",
       "      <td>2021-06-07</td>\n",
       "      <td>2021-06-07</td>\n",
       "      <td>2021-06-07</td>\n",
       "      <td>649035</td>\n",
       "      <td>172</td>\n",
       "      <td>3500000</td>\n",
       "      <td>BE1</td>\n",
       "    </tr>\n",
       "    <tr>\n",
       "      <th>405040</th>\n",
       "      <td>2021-12-16</td>\n",
       "      <td>2021-12-16</td>\n",
       "      <td>2021-12-13</td>\n",
       "      <td>649035</td>\n",
       "      <td>172</td>\n",
       "      <td>2500000</td>\n",
       "      <td>BE1</td>\n",
       "    </tr>\n",
       "    <tr>\n",
       "      <th>405041</th>\n",
       "      <td>2022-04-12</td>\n",
       "      <td>2022-04-12</td>\n",
       "      <td>2022-04-11</td>\n",
       "      <td>649035</td>\n",
       "      <td>172</td>\n",
       "      <td>2000000</td>\n",
       "      <td>BE1</td>\n",
       "    </tr>\n",
       "    <tr>\n",
       "      <th>405042</th>\n",
       "      <td>2022-11-04</td>\n",
       "      <td>2022-11-04</td>\n",
       "      <td>2022-10-31</td>\n",
       "      <td>649035</td>\n",
       "      <td>172</td>\n",
       "      <td>1500000</td>\n",
       "      <td>BE1</td>\n",
       "    </tr>\n",
       "  </tbody>\n",
       "</table>\n",
       "<p>26259 rows × 7 columns</p>\n",
       "</div>"
      ],
      "text/plain": [
       "             date    datetime    dateweek  player_id  current_club_id  \\\n",
       "31     2008-08-04  2008-08-04  2008-08-04      78820              354   \n",
       "32     2008-10-27  2008-10-27  2008-10-27      78820              354   \n",
       "33     2009-01-28  2009-01-28  2009-01-26      78820              354   \n",
       "34     2009-05-29  2009-05-29  2009-05-25      78820              354   \n",
       "35     2010-03-09  2010-03-09  2010-03-08      78820              354   \n",
       "...           ...         ...         ...        ...              ...   \n",
       "405038 2021-03-17  2021-03-17  2021-03-15     649035              172   \n",
       "405039 2021-06-07  2021-06-07  2021-06-07     649035              172   \n",
       "405040 2021-12-16  2021-12-16  2021-12-13     649035              172   \n",
       "405041 2022-04-12  2022-04-12  2022-04-11     649035              172   \n",
       "405042 2022-11-04  2022-11-04  2022-10-31     649035              172   \n",
       "\n",
       "        market_value_in_eur player_club_domestic_competition_id  \n",
       "31                   350000                                 BE1  \n",
       "32                   600000                                 BE1  \n",
       "33                  1000000                                 BE1  \n",
       "34                  1700000                                 BE1  \n",
       "35                  1500000                                 BE1  \n",
       "...                     ...                                 ...  \n",
       "405038              3500000                                 BE1  \n",
       "405039              3500000                                 BE1  \n",
       "405040              2500000                                 BE1  \n",
       "405041              2000000                                 BE1  \n",
       "405042              1500000                                 BE1  \n",
       "\n",
       "[26259 rows x 7 columns]"
      ]
     },
     "execution_count": 6,
     "metadata": {},
     "output_type": "execute_result"
    }
   ],
   "source": [
    "player_valuations = pd.read_csv('/home/becode/Desktop/5#StoryTelling/data/player_valuations.csv', parse_dates=['date'])\n",
    "\n",
    "list_belgium_players = player_valuations[player_valuations['player_id'].isin(belgium_players_ids)]\n",
    "list_belgium_players"
   ]
  },
  {
   "cell_type": "code",
   "execution_count": 7,
   "metadata": {},
   "outputs": [
    {
     "data": {
      "text/html": [
       "<div>\n",
       "<style scoped>\n",
       "    .dataframe tbody tr th:only-of-type {\n",
       "        vertical-align: middle;\n",
       "    }\n",
       "\n",
       "    .dataframe tbody tr th {\n",
       "        vertical-align: top;\n",
       "    }\n",
       "\n",
       "    .dataframe thead th {\n",
       "        text-align: right;\n",
       "    }\n",
       "</style>\n",
       "<table border=\"1\" class=\"dataframe\">\n",
       "  <thead>\n",
       "    <tr style=\"text-align: right;\">\n",
       "      <th></th>\n",
       "      <th>date</th>\n",
       "      <th>datetime</th>\n",
       "      <th>dateweek</th>\n",
       "      <th>player_id</th>\n",
       "      <th>current_club_id</th>\n",
       "      <th>market_value_in_eur</th>\n",
       "      <th>player_club_domestic_competition_id</th>\n",
       "    </tr>\n",
       "  </thead>\n",
       "  <tbody>\n",
       "    <tr>\n",
       "      <th>1034</th>\n",
       "      <td>2020-12-28</td>\n",
       "      <td>2020-12-28</td>\n",
       "      <td>2020-12-28</td>\n",
       "      <td>28456</td>\n",
       "      <td>354</td>\n",
       "      <td>100000</td>\n",
       "      <td>BE1</td>\n",
       "    </tr>\n",
       "    <tr>\n",
       "      <th>1035</th>\n",
       "      <td>2021-06-10</td>\n",
       "      <td>2021-06-10</td>\n",
       "      <td>2021-06-07</td>\n",
       "      <td>28456</td>\n",
       "      <td>354</td>\n",
       "      <td>50000</td>\n",
       "      <td>BE1</td>\n",
       "    </tr>\n",
       "    <tr>\n",
       "      <th>1674</th>\n",
       "      <td>2021-08-11</td>\n",
       "      <td>2021-08-11</td>\n",
       "      <td>2021-08-09</td>\n",
       "      <td>147457</td>\n",
       "      <td>3508</td>\n",
       "      <td>10000</td>\n",
       "      <td>BE1</td>\n",
       "    </tr>\n",
       "    <tr>\n",
       "      <th>2009</th>\n",
       "      <td>2020-07-24</td>\n",
       "      <td>2020-07-24</td>\n",
       "      <td>2020-07-20</td>\n",
       "      <td>70305</td>\n",
       "      <td>498</td>\n",
       "      <td>175000</td>\n",
       "      <td>BE1</td>\n",
       "    </tr>\n",
       "    <tr>\n",
       "      <th>2010</th>\n",
       "      <td>2021-01-12</td>\n",
       "      <td>2021-01-12</td>\n",
       "      <td>2021-01-11</td>\n",
       "      <td>70305</td>\n",
       "      <td>498</td>\n",
       "      <td>150000</td>\n",
       "      <td>BE1</td>\n",
       "    </tr>\n",
       "    <tr>\n",
       "      <th>...</th>\n",
       "      <td>...</td>\n",
       "      <td>...</td>\n",
       "      <td>...</td>\n",
       "      <td>...</td>\n",
       "      <td>...</td>\n",
       "      <td>...</td>\n",
       "      <td>...</td>\n",
       "    </tr>\n",
       "    <tr>\n",
       "      <th>405038</th>\n",
       "      <td>2021-03-17</td>\n",
       "      <td>2021-03-17</td>\n",
       "      <td>2021-03-15</td>\n",
       "      <td>649035</td>\n",
       "      <td>172</td>\n",
       "      <td>3500000</td>\n",
       "      <td>BE1</td>\n",
       "    </tr>\n",
       "    <tr>\n",
       "      <th>405039</th>\n",
       "      <td>2021-06-07</td>\n",
       "      <td>2021-06-07</td>\n",
       "      <td>2021-06-07</td>\n",
       "      <td>649035</td>\n",
       "      <td>172</td>\n",
       "      <td>3500000</td>\n",
       "      <td>BE1</td>\n",
       "    </tr>\n",
       "    <tr>\n",
       "      <th>405040</th>\n",
       "      <td>2021-12-16</td>\n",
       "      <td>2021-12-16</td>\n",
       "      <td>2021-12-13</td>\n",
       "      <td>649035</td>\n",
       "      <td>172</td>\n",
       "      <td>2500000</td>\n",
       "      <td>BE1</td>\n",
       "    </tr>\n",
       "    <tr>\n",
       "      <th>405041</th>\n",
       "      <td>2022-04-12</td>\n",
       "      <td>2022-04-12</td>\n",
       "      <td>2022-04-11</td>\n",
       "      <td>649035</td>\n",
       "      <td>172</td>\n",
       "      <td>2000000</td>\n",
       "      <td>BE1</td>\n",
       "    </tr>\n",
       "    <tr>\n",
       "      <th>405042</th>\n",
       "      <td>2022-11-04</td>\n",
       "      <td>2022-11-04</td>\n",
       "      <td>2022-10-31</td>\n",
       "      <td>649035</td>\n",
       "      <td>172</td>\n",
       "      <td>1500000</td>\n",
       "      <td>BE1</td>\n",
       "    </tr>\n",
       "  </tbody>\n",
       "</table>\n",
       "<p>8095 rows × 7 columns</p>\n",
       "</div>"
      ],
      "text/plain": [
       "             date    datetime    dateweek  player_id  current_club_id  \\\n",
       "1034   2020-12-28  2020-12-28  2020-12-28      28456              354   \n",
       "1035   2021-06-10  2021-06-10  2021-06-07      28456              354   \n",
       "1674   2021-08-11  2021-08-11  2021-08-09     147457             3508   \n",
       "2009   2020-07-24  2020-07-24  2020-07-20      70305              498   \n",
       "2010   2021-01-12  2021-01-12  2021-01-11      70305              498   \n",
       "...           ...         ...         ...        ...              ...   \n",
       "405038 2021-03-17  2021-03-17  2021-03-15     649035              172   \n",
       "405039 2021-06-07  2021-06-07  2021-06-07     649035              172   \n",
       "405040 2021-12-16  2021-12-16  2021-12-13     649035              172   \n",
       "405041 2022-04-12  2022-04-12  2022-04-11     649035              172   \n",
       "405042 2022-11-04  2022-11-04  2022-10-31     649035              172   \n",
       "\n",
       "        market_value_in_eur player_club_domestic_competition_id  \n",
       "1034                 100000                                 BE1  \n",
       "1035                  50000                                 BE1  \n",
       "1674                  10000                                 BE1  \n",
       "2009                 175000                                 BE1  \n",
       "2010                 150000                                 BE1  \n",
       "...                     ...                                 ...  \n",
       "405038              3500000                                 BE1  \n",
       "405039              3500000                                 BE1  \n",
       "405040              2500000                                 BE1  \n",
       "405041              2000000                                 BE1  \n",
       "405042              1500000                                 BE1  \n",
       "\n",
       "[8095 rows x 7 columns]"
      ]
     },
     "execution_count": 7,
     "metadata": {},
     "output_type": "execute_result"
    }
   ],
   "source": [
    "list_belgium_players_after_2019 = list_belgium_players[list_belgium_players['date'].dt.year>2019]\n",
    "list_belgium_players_after_2019"
   ]
  },
  {
   "cell_type": "code",
   "execution_count": 8,
   "metadata": {},
   "outputs": [
    {
     "data": {
      "image/png": "[encoded data removed]",
      "text/plain": [
       "<Figure size 640x480 with 1 Axes>"
      ]
     },
     "metadata": {},
     "output_type": "display_data"
    }
   ],
   "source": [
    "import matplotlib.pyplot as plt\n",
    "plt.suptitle('player valuations')\n",
    "plt.scatter(list_belgium_players_after_2019['date'], list_belgium_players_after_2019['market_value_in_eur'])\n",
    "plt.show()"
   ]
  },
  {
   "cell_type": "code",
   "execution_count": 9,
   "metadata": {},
   "outputs": [],
   "source": [
    "list_belgium_players_before_2019 = list_belgium_players[list_belgium_players['date'].dt.year<2019]\n"
   ]
  },
  {
   "cell_type": "code",
   "execution_count": 10,
   "metadata": {},
   "outputs": [
    {
     "data": {
      "text/plain": [
       "18306953000"
      ]
     },
     "execution_count": 10,
     "metadata": {},
     "output_type": "execute_result"
    }
   ],
   "source": [
    "list_belgium_players_before_2019['market_value_in_eur'].sum()"
   ]
  },
  {
   "cell_type": "code",
   "execution_count": 11,
   "metadata": {},
   "outputs": [
    {
     "data": {
      "text/plain": [
       "9110884999"
      ]
     },
     "execution_count": 11,
     "metadata": {},
     "output_type": "execute_result"
    }
   ],
   "source": [
    "list_belgium_players_after_2019['market_value_in_eur'].sum()"
   ]
  },
  {
   "cell_type": "code",
   "execution_count": 12,
   "metadata": {},
   "outputs": [
    {
     "data": {
      "text/html": [
       "<div>\n",
       "<style scoped>\n",
       "    .dataframe tbody tr th:only-of-type {\n",
       "        vertical-align: middle;\n",
       "    }\n",
       "\n",
       "    .dataframe tbody tr th {\n",
       "        vertical-align: top;\n",
       "    }\n",
       "\n",
       "    .dataframe thead th {\n",
       "        text-align: right;\n",
       "    }\n",
       "</style>\n",
       "<table border=\"1\" class=\"dataframe\">\n",
       "  <thead>\n",
       "    <tr style=\"text-align: right;\">\n",
       "      <th></th>\n",
       "      <th>game_id</th>\n",
       "      <th>minute</th>\n",
       "      <th>type</th>\n",
       "      <th>club_id</th>\n",
       "      <th>player_id</th>\n",
       "      <th>description</th>\n",
       "      <th>player_in_id</th>\n",
       "    </tr>\n",
       "  </thead>\n",
       "  <tbody>\n",
       "    <tr>\n",
       "      <th>44</th>\n",
       "      <td>2211607</td>\n",
       "      <td>44</td>\n",
       "      <td>Goals</td>\n",
       "      <td>610</td>\n",
       "      <td>42710</td>\n",
       "      <td>, Header, 1. Tournament Goal</td>\n",
       "      <td>-1</td>\n",
       "    </tr>\n",
       "    <tr>\n",
       "      <th>62</th>\n",
       "      <td>2224956</td>\n",
       "      <td>33</td>\n",
       "      <td>Goals</td>\n",
       "      <td>1411</td>\n",
       "      <td>43982</td>\n",
       "      <td>, Penalty, 5. Goal of the Season</td>\n",
       "      <td>-1</td>\n",
       "    </tr>\n",
       "    <tr>\n",
       "      <th>63</th>\n",
       "      <td>2224956</td>\n",
       "      <td>55</td>\n",
       "      <td>Goals</td>\n",
       "      <td>1184</td>\n",
       "      <td>26797</td>\n",
       "      <td>, Penalty, 6. Goal of the Season</td>\n",
       "      <td>-1</td>\n",
       "    </tr>\n",
       "    <tr>\n",
       "      <th>64</th>\n",
       "      <td>2224956</td>\n",
       "      <td>57</td>\n",
       "      <td>Goals</td>\n",
       "      <td>1184</td>\n",
       "      <td>36586</td>\n",
       "      <td>, Header, 2. Goal of the Season</td>\n",
       "      <td>-1</td>\n",
       "    </tr>\n",
       "    <tr>\n",
       "      <th>66</th>\n",
       "      <td>2224956</td>\n",
       "      <td>73</td>\n",
       "      <td>Goals</td>\n",
       "      <td>1184</td>\n",
       "      <td>13292</td>\n",
       "      <td>, Right-footed shot, 7. Goal of the Season</td>\n",
       "      <td>-1</td>\n",
       "    </tr>\n",
       "    <tr>\n",
       "      <th>...</th>\n",
       "      <td>...</td>\n",
       "      <td>...</td>\n",
       "      <td>...</td>\n",
       "      <td>...</td>\n",
       "      <td>...</td>\n",
       "      <td>...</td>\n",
       "      <td>...</td>\n",
       "    </tr>\n",
       "    <tr>\n",
       "      <th>559747</th>\n",
       "      <td>3901618</td>\n",
       "      <td>66</td>\n",
       "      <td>Substitutions</td>\n",
       "      <td>2156</td>\n",
       "      <td>371145</td>\n",
       "      <td>NaN</td>\n",
       "      <td>15568</td>\n",
       "    </tr>\n",
       "    <tr>\n",
       "      <th>559774</th>\n",
       "      <td>3901512</td>\n",
       "      <td>37</td>\n",
       "      <td>Goals</td>\n",
       "      <td>496</td>\n",
       "      <td>77259</td>\n",
       "      <td>, Direct free kick, 1. Tournament Goal</td>\n",
       "      <td>-1</td>\n",
       "    </tr>\n",
       "    <tr>\n",
       "      <th>559781</th>\n",
       "      <td>3901512</td>\n",
       "      <td>83</td>\n",
       "      <td>Substitutions</td>\n",
       "      <td>496</td>\n",
       "      <td>77259</td>\n",
       "      <td>NaN</td>\n",
       "      <td>931838</td>\n",
       "    </tr>\n",
       "    <tr>\n",
       "      <th>559783</th>\n",
       "      <td>3901512</td>\n",
       "      <td>88</td>\n",
       "      <td>Substitutions</td>\n",
       "      <td>496</td>\n",
       "      <td>201311</td>\n",
       "      <td>NaN</td>\n",
       "      <td>73323</td>\n",
       "    </tr>\n",
       "    <tr>\n",
       "      <th>559811</th>\n",
       "      <td>3901620</td>\n",
       "      <td>56</td>\n",
       "      <td>Substitutions</td>\n",
       "      <td>683</td>\n",
       "      <td>271098</td>\n",
       "      <td>NaN</td>\n",
       "      <td>512394</td>\n",
       "    </tr>\n",
       "  </tbody>\n",
       "</table>\n",
       "<p>28097 rows × 7 columns</p>\n",
       "</div>"
      ],
      "text/plain": [
       "        game_id  minute           type  club_id  player_id  \\\n",
       "44      2211607      44          Goals      610      42710   \n",
       "62      2224956      33          Goals     1411      43982   \n",
       "63      2224956      55          Goals     1184      26797   \n",
       "64      2224956      57          Goals     1184      36586   \n",
       "66      2224956      73          Goals     1184      13292   \n",
       "...         ...     ...            ...      ...        ...   \n",
       "559747  3901618      66  Substitutions     2156     371145   \n",
       "559774  3901512      37          Goals      496      77259   \n",
       "559781  3901512      83  Substitutions      496      77259   \n",
       "559783  3901512      88  Substitutions      496     201311   \n",
       "559811  3901620      56  Substitutions      683     271098   \n",
       "\n",
       "                                       description  player_in_id  \n",
       "44                    , Header, 1. Tournament Goal            -1  \n",
       "62                , Penalty, 5. Goal of the Season            -1  \n",
       "63                , Penalty, 6. Goal of the Season            -1  \n",
       "64                 , Header, 2. Goal of the Season            -1  \n",
       "66      , Right-footed shot, 7. Goal of the Season            -1  \n",
       "...                                            ...           ...  \n",
       "559747                                         NaN         15568  \n",
       "559774      , Direct free kick, 1. Tournament Goal            -1  \n",
       "559781                                         NaN        931838  \n",
       "559783                                         NaN         73323  \n",
       "559811                                         NaN        512394  \n",
       "\n",
       "[28097 rows x 7 columns]"
      ]
     },
     "execution_count": 12,
     "metadata": {},
     "output_type": "execute_result"
    }
   ],
   "source": [
    "game_events = pd.read_csv('/home/becode/Desktop/5#StoryTelling/data/game_events.csv')\n",
    "\n",
    "game_events = game_events[game_events['player_id'].isin(belgium_players_ids)]\n",
    "game_events"
   ]
  },
  {
   "cell_type": "code",
   "execution_count": 13,
   "metadata": {},
   "outputs": [
    {
     "data": {
      "text/html": [
       "<div>\n",
       "<style scoped>\n",
       "    .dataframe tbody tr th:only-of-type {\n",
       "        vertical-align: middle;\n",
       "    }\n",
       "\n",
       "    .dataframe tbody tr th {\n",
       "        vertical-align: top;\n",
       "    }\n",
       "\n",
       "    .dataframe thead th {\n",
       "        text-align: right;\n",
       "    }\n",
       "</style>\n",
       "<table border=\"1\" class=\"dataframe\">\n",
       "  <thead>\n",
       "    <tr style=\"text-align: right;\">\n",
       "      <th></th>\n",
       "      <th>competition_id</th>\n",
       "      <th>competition_code</th>\n",
       "      <th>name</th>\n",
       "      <th>type</th>\n",
       "      <th>sub_type</th>\n",
       "      <th>country_id</th>\n",
       "      <th>country_name</th>\n",
       "      <th>country_latitude</th>\n",
       "      <th>country_longitude</th>\n",
       "      <th>domestic_league_code</th>\n",
       "      <th>confederation</th>\n",
       "      <th>url</th>\n",
       "    </tr>\n",
       "  </thead>\n",
       "  <tbody>\n",
       "    <tr>\n",
       "      <th>6</th>\n",
       "      <td>BE1</td>\n",
       "      <td>jupiler-pro-league</td>\n",
       "      <td>Jupiler Pro League</td>\n",
       "      <td>domestic_league</td>\n",
       "      <td>first_tier</td>\n",
       "      <td>19</td>\n",
       "      <td>Belgium</td>\n",
       "      <td>50.640281</td>\n",
       "      <td>4.666715</td>\n",
       "      <td>BE1</td>\n",
       "      <td>europa</td>\n",
       "      <td>https://www.transfermarkt.co.uk/jupiler-pro-le...</td>\n",
       "    </tr>\n",
       "  </tbody>\n",
       "</table>\n",
       "</div>"
      ],
      "text/plain": [
       "  competition_id    competition_code                name             type  \\\n",
       "6            BE1  jupiler-pro-league  Jupiler Pro League  domestic_league   \n",
       "\n",
       "     sub_type  country_id country_name  country_latitude  country_longitude  \\\n",
       "6  first_tier          19      Belgium         50.640281           4.666715   \n",
       "\n",
       "  domestic_league_code confederation  \\\n",
       "6                  BE1        europa   \n",
       "\n",
       "                                                 url  \n",
       "6  https://www.transfermarkt.co.uk/jupiler-pro-le...  "
      ]
     },
     "execution_count": 13,
     "metadata": {},
     "output_type": "execute_result"
    }
   ],
   "source": [
    "competitions = pd.read_csv('/home/becode/Desktop/5#StoryTelling/data/competitions.csv')\n",
    "\n",
    "competitions = competitions[competitions['competition_id']=='BE1']\n",
    "competitions"
   ]
  },
  {
   "cell_type": "code",
   "execution_count": 14,
   "metadata": {},
   "outputs": [],
   "source": [
    "appearance = pd.read_csv('/home/becode/Desktop/5#StoryTelling/data/appearances.csv')\n",
    "\n",
    "appearance = appearance[appearance['player_id'].isin(belgium_players_ids)]\n",
    "appearance.to_csv('appearance_belgium.csv')"
   ]
  },
  {
   "cell_type": "code",
   "execution_count": 15,
   "metadata": {},
   "outputs": [
    {
     "data": {
      "text/html": [
       "<div>\n",
       "<style scoped>\n",
       "    .dataframe tbody tr th:only-of-type {\n",
       "        vertical-align: middle;\n",
       "    }\n",
       "\n",
       "    .dataframe tbody tr th {\n",
       "        vertical-align: top;\n",
       "    }\n",
       "\n",
       "    .dataframe thead th {\n",
       "        text-align: right;\n",
       "    }\n",
       "</style>\n",
       "<table border=\"1\" class=\"dataframe\">\n",
       "  <thead>\n",
       "    <tr style=\"text-align: right;\">\n",
       "      <th></th>\n",
       "      <th>appearance_id</th>\n",
       "      <th>game_id</th>\n",
       "      <th>player_id</th>\n",
       "      <th>player_club_id</th>\n",
       "      <th>player_current_club_id</th>\n",
       "      <th>date</th>\n",
       "      <th>player_name</th>\n",
       "      <th>competition_id</th>\n",
       "      <th>yellow_cards</th>\n",
       "      <th>red_cards</th>\n",
       "      <th>goals</th>\n",
       "      <th>assists</th>\n",
       "      <th>minutes_played</th>\n",
       "    </tr>\n",
       "  </thead>\n",
       "  <tbody>\n",
       "    <tr>\n",
       "      <th>0</th>\n",
       "      <td>2483937_52453</td>\n",
       "      <td>2483937</td>\n",
       "      <td>52453</td>\n",
       "      <td>28095</td>\n",
       "      <td>28095</td>\n",
       "      <td>2014-08-08</td>\n",
       "      <td>Haris Handzic</td>\n",
       "      <td>RU1</td>\n",
       "      <td>0</td>\n",
       "      <td>0</td>\n",
       "      <td>0</td>\n",
       "      <td>0</td>\n",
       "      <td>90</td>\n",
       "    </tr>\n",
       "    <tr>\n",
       "      <th>1</th>\n",
       "      <td>2479929_67064</td>\n",
       "      <td>2479929</td>\n",
       "      <td>67064</td>\n",
       "      <td>28095</td>\n",
       "      <td>4128</td>\n",
       "      <td>2014-08-03</td>\n",
       "      <td>Felicio Brown Forbes</td>\n",
       "      <td>RU1</td>\n",
       "      <td>0</td>\n",
       "      <td>0</td>\n",
       "      <td>0</td>\n",
       "      <td>0</td>\n",
       "      <td>90</td>\n",
       "    </tr>\n",
       "    <tr>\n",
       "      <th>2</th>\n",
       "      <td>2483937_67064</td>\n",
       "      <td>2483937</td>\n",
       "      <td>67064</td>\n",
       "      <td>28095</td>\n",
       "      <td>4128</td>\n",
       "      <td>2014-08-08</td>\n",
       "      <td>Felicio Brown Forbes</td>\n",
       "      <td>RU1</td>\n",
       "      <td>0</td>\n",
       "      <td>0</td>\n",
       "      <td>0</td>\n",
       "      <td>0</td>\n",
       "      <td>90</td>\n",
       "    </tr>\n",
       "    <tr>\n",
       "      <th>3</th>\n",
       "      <td>2484582_67064</td>\n",
       "      <td>2484582</td>\n",
       "      <td>67064</td>\n",
       "      <td>28095</td>\n",
       "      <td>4128</td>\n",
       "      <td>2014-08-13</td>\n",
       "      <td>Felicio Brown Forbes</td>\n",
       "      <td>RU1</td>\n",
       "      <td>0</td>\n",
       "      <td>0</td>\n",
       "      <td>0</td>\n",
       "      <td>0</td>\n",
       "      <td>55</td>\n",
       "    </tr>\n",
       "    <tr>\n",
       "      <th>4</th>\n",
       "      <td>2485965_67064</td>\n",
       "      <td>2485965</td>\n",
       "      <td>67064</td>\n",
       "      <td>28095</td>\n",
       "      <td>4128</td>\n",
       "      <td>2014-08-16</td>\n",
       "      <td>Felicio Brown Forbes</td>\n",
       "      <td>RU1</td>\n",
       "      <td>0</td>\n",
       "      <td>0</td>\n",
       "      <td>0</td>\n",
       "      <td>0</td>\n",
       "      <td>90</td>\n",
       "    </tr>\n",
       "  </tbody>\n",
       "</table>\n",
       "</div>"
      ],
      "text/plain": [
       "   appearance_id  game_id  player_id  player_club_id  player_current_club_id  \\\n",
       "0  2483937_52453  2483937      52453           28095                   28095   \n",
       "1  2479929_67064  2479929      67064           28095                    4128   \n",
       "2  2483937_67064  2483937      67064           28095                    4128   \n",
       "3  2484582_67064  2484582      67064           28095                    4128   \n",
       "4  2485965_67064  2485965      67064           28095                    4128   \n",
       "\n",
       "         date           player_name competition_id  yellow_cards  red_cards  \\\n",
       "0  2014-08-08         Haris Handzic            RU1             0          0   \n",
       "1  2014-08-03  Felicio Brown Forbes            RU1             0          0   \n",
       "2  2014-08-08  Felicio Brown Forbes            RU1             0          0   \n",
       "3  2014-08-13  Felicio Brown Forbes            RU1             0          0   \n",
       "4  2014-08-16  Felicio Brown Forbes            RU1             0          0   \n",
       "\n",
       "   goals  assists  minutes_played  \n",
       "0      0        0              90  \n",
       "1      0        0              90  \n",
       "2      0        0              90  \n",
       "3      0        0              55  \n",
       "4      0        0              90  "
      ]
     },
     "execution_count": 15,
     "metadata": {},
     "output_type": "execute_result"
    }
   ],
   "source": [
    "appearance = pd.read_csv('/home/becode/Desktop/5#StoryTelling/data/appearances.csv')\n",
    "appearance.head()"
   ]
  },
  {
   "cell_type": "code",
   "execution_count": 16,
   "metadata": {},
   "outputs": [
    {
     "name": "stdout",
     "output_type": "stream",
     "text": [
      "1166215\n"
     ]
    }
   ],
   "source": [
    "appearance = pd.read_csv('/home/becode/Desktop/5#StoryTelling/data/appearances.csv')\n",
    "appearance['is_equal'] = appearance['player_club_id']==appearance['player_current_club_id']\n",
    "print(len(appearance))"
   ]
  },
  {
   "cell_type": "code",
   "execution_count": 17,
   "metadata": {},
   "outputs": [],
   "source": [
    "appearance = pd.read_csv('/home/becode/Desktop/5#StoryTelling/data/appearances.csv')\n",
    "appearance_belgium = appearance[appearance['competition_id']=='BE1']\n",
    "#appearance_belgium.to_csv('appearance_belgium.csv')"
   ]
  },
  {
   "cell_type": "code",
   "execution_count": 18,
   "metadata": {},
   "outputs": [],
   "source": [
    "players = pd.read_csv('/home/becode/Desktop/5#StoryTelling/data/players.csv')\n"
   ]
  },
  {
   "cell_type": "code",
   "execution_count": 19,
   "metadata": {},
   "outputs": [
    {
     "data": {
      "text/plain": [
       "Kilmarnock Fc      168\n",
       "Ross County Fc     154\n",
       "Cs Maritimo        152\n",
       "Antalyaspor        152\n",
       "Dundee Fc          147\n",
       "                  ... \n",
       "Balikesirspor       14\n",
       "Beerschot Ac        14\n",
       "Wigan Athletic      13\n",
       "Sc Beira Mar        13\n",
       "Fc Valenciennes     12\n",
       "Name: current_club_name, Length: 410, dtype: int64"
      ]
     },
     "execution_count": 19,
     "metadata": {},
     "output_type": "execute_result"
    }
   ],
   "source": [
    "players = pd.read_csv('/home/becode/Desktop/5#StoryTelling/data/players.csv')\n",
    "players['current_club_name'].value_counts()"
   ]
  },
  {
   "cell_type": "code",
   "execution_count": 20,
   "metadata": {},
   "outputs": [],
   "source": [
    "\n",
    "games = pd.read_csv('/home/becode/Desktop/5#StoryTelling/data/games.csv')\n",
    "#print(games.head())\n",
    "#games[(games['club_home_name']=='Beerschot Ac') | (games['club_away_name']=='Beerschot Ac')]\n",
    "#games.to_csv('games_belgium.csv')\n",
    "\n"
   ]
  },
  {
   "cell_type": "code",
   "execution_count": 21,
   "metadata": {},
   "outputs": [
    {
     "data": {
      "text/html": [
       "<div>\n",
       "<style scoped>\n",
       "    .dataframe tbody tr th:only-of-type {\n",
       "        vertical-align: middle;\n",
       "    }\n",
       "\n",
       "    .dataframe tbody tr th {\n",
       "        vertical-align: top;\n",
       "    }\n",
       "\n",
       "    .dataframe thead th {\n",
       "        text-align: right;\n",
       "    }\n",
       "</style>\n",
       "<table border=\"1\" class=\"dataframe\">\n",
       "  <thead>\n",
       "    <tr style=\"text-align: right;\">\n",
       "      <th></th>\n",
       "      <th>club_id</th>\n",
       "      <th>game_id</th>\n",
       "      <th>own_goals</th>\n",
       "      <th>own_position</th>\n",
       "      <th>own_manager_name</th>\n",
       "      <th>opponent_id</th>\n",
       "      <th>opponent_goals</th>\n",
       "      <th>opponent_position</th>\n",
       "      <th>opponent_manager_name</th>\n",
       "      <th>hosting</th>\n",
       "      <th>is_win</th>\n",
       "    </tr>\n",
       "  </thead>\n",
       "  <tbody>\n",
       "    <tr>\n",
       "      <th>0</th>\n",
       "      <td>27</td>\n",
       "      <td>2229332</td>\n",
       "      <td>2</td>\n",
       "      <td>-1</td>\n",
       "      <td>Jupp Heynckes</td>\n",
       "      <td>16</td>\n",
       "      <td>1</td>\n",
       "      <td>-1</td>\n",
       "      <td>Jürgen Klopp</td>\n",
       "      <td>Home</td>\n",
       "      <td>1</td>\n",
       "    </tr>\n",
       "    <tr>\n",
       "      <th>1</th>\n",
       "      <td>131</td>\n",
       "      <td>2244388</td>\n",
       "      <td>3</td>\n",
       "      <td>-1</td>\n",
       "      <td>Tito Vilanova</td>\n",
       "      <td>418</td>\n",
       "      <td>2</td>\n",
       "      <td>-1</td>\n",
       "      <td>José Mourinho</td>\n",
       "      <td>Home</td>\n",
       "      <td>1</td>\n",
       "    </tr>\n",
       "    <tr>\n",
       "      <th>2</th>\n",
       "      <td>3709</td>\n",
       "      <td>2269557</td>\n",
       "      <td>0</td>\n",
       "      <td>-1</td>\n",
       "      <td>Luis García</td>\n",
       "      <td>4032</td>\n",
       "      <td>0</td>\n",
       "      <td>-1</td>\n",
       "      <td>Claudio Barragán</td>\n",
       "      <td>Home</td>\n",
       "      <td>0</td>\n",
       "    </tr>\n",
       "    <tr>\n",
       "      <th>3</th>\n",
       "      <td>21322</td>\n",
       "      <td>2254432</td>\n",
       "      <td>1</td>\n",
       "      <td>-1</td>\n",
       "      <td>Pedro Buenaventura</td>\n",
       "      <td>7077</td>\n",
       "      <td>0</td>\n",
       "      <td>-1</td>\n",
       "      <td>Pato</td>\n",
       "      <td>Home</td>\n",
       "      <td>1</td>\n",
       "    </tr>\n",
       "    <tr>\n",
       "      <th>4</th>\n",
       "      <td>109</td>\n",
       "      <td>2221759</td>\n",
       "      <td>0</td>\n",
       "      <td>-1</td>\n",
       "      <td>Oscar Corrochano</td>\n",
       "      <td>27</td>\n",
       "      <td>4</td>\n",
       "      <td>-1</td>\n",
       "      <td>Jupp Heynckes</td>\n",
       "      <td>Home</td>\n",
       "      <td>0</td>\n",
       "    </tr>\n",
       "  </tbody>\n",
       "</table>\n",
       "</div>"
      ],
      "text/plain": [
       "   club_id  game_id  own_goals  own_position    own_manager_name  opponent_id  \\\n",
       "0       27  2229332          2            -1       Jupp Heynckes           16   \n",
       "1      131  2244388          3            -1       Tito Vilanova          418   \n",
       "2     3709  2269557          0            -1         Luis García         4032   \n",
       "3    21322  2254432          1            -1  Pedro Buenaventura         7077   \n",
       "4      109  2221759          0            -1    Oscar Corrochano           27   \n",
       "\n",
       "   opponent_goals  opponent_position opponent_manager_name hosting  is_win  \n",
       "0               1                 -1          Jürgen Klopp    Home       1  \n",
       "1               2                 -1         José Mourinho    Home       1  \n",
       "2               0                 -1      Claudio Barragán    Home       0  \n",
       "3               0                 -1                  Pato    Home       1  \n",
       "4               4                 -1         Jupp Heynckes    Home       0  "
      ]
     },
     "execution_count": 21,
     "metadata": {},
     "output_type": "execute_result"
    }
   ],
   "source": [
    "club_games = pd.read_csv('/home/becode/Desktop/5#StoryTelling/data/club_games.csv')\n",
    "#print(games.head())\n",
    "#club_games = club_games[club_games['club_id'].isin(belg_club_ids)]\n",
    "#games.to_csv('games_belgium.csv')\n",
    "#club_games.to_csv('club_games_belgium.csv')\n",
    "club_games.head()"
   ]
  },
  {
   "cell_type": "code",
   "execution_count": 22,
   "metadata": {},
   "outputs": [
    {
     "data": {
      "text/plain": [
       "123096"
      ]
     },
     "execution_count": 22,
     "metadata": {},
     "output_type": "execute_result"
    }
   ],
   "source": [
    "len(club_games)"
   ]
  },
  {
   "cell_type": "code",
   "execution_count": 23,
   "metadata": {},
   "outputs": [
    {
     "data": {
      "text/plain": [
       "Home    61548\n",
       "Away    61548\n",
       "Name: hosting, dtype: int64"
      ]
     },
     "execution_count": 23,
     "metadata": {},
     "output_type": "execute_result"
    }
   ],
   "source": [
    "club_games['hosting'].value_counts()"
   ]
  },
  {
   "cell_type": "code",
   "execution_count": 24,
   "metadata": {},
   "outputs": [
    {
     "data": {
      "text/plain": [
       "club_id  game_id  own_goals  own_position  own_manager_name  opponent_id  opponent_goals  opponent_position  opponent_manager_name  hosting  is_win\n",
       "1        2320460  3          -1            Jürgen Luginger   86           1               -1                 Robin Dutt             Home     1         0.000021\n",
       "1304     3061047  4           4            Frank Wormuth     642          0                16                Henk de Jong           Home     1         0.000021\n",
       "         2888293  2           12           John Stegeman     1269         1                6                 John van 't Schip      Home     1         0.000021\n",
       "         2888302  3           11           John Stegeman     192          0                18                Robert Molenaar        Away     1         0.000021\n",
       "         2888308  2           9            John Stegeman     317          1                17                Gertjan Verbeek        Home     1         0.000021\n",
       "                                                                                                                                                         ...   \n",
       "398      3180032  2          -1            Simone Inzaghi    800          0               -1                 Gian Piero Gasperini   Away     1         0.000021\n",
       "         3229172  3           2            Simone Inzaghi    1038         0                19                Eusebio Di Francesco   Away     1         0.000021\n",
       "         3229200  2           5            Simone Inzaghi    130          0                18                Roberto D'Aversa       Home     1         0.000021\n",
       "         3229218  4           6            Simone Inzaghi    252          0                18                Aurelio Andreazzoli    Home     1         0.000021\n",
       "101808   3921100  3          -1            Petros Karaiskos  4599         2               -1                 Georgios Potouridis    Home     1         0.000021\n",
       "Length: 47591, dtype: float64"
      ]
     },
     "execution_count": 24,
     "metadata": {},
     "output_type": "execute_result"
    }
   ],
   "source": [
    "club_games[club_games['is_win']==1].value_counts(normalize=True)"
   ]
  },
  {
   "cell_type": "code",
   "execution_count": 25,
   "metadata": {},
   "outputs": [
    {
     "data": {
      "text/plain": [
       "129472"
      ]
     },
     "execution_count": 25,
     "metadata": {},
     "output_type": "execute_result"
    }
   ],
   "source": [
    "new_table = pd.merge(appearance_belgium, club_games, on='game_id')\n",
    "len(new_table)"
   ]
  },
  {
   "cell_type": "code",
   "execution_count": 26,
   "metadata": {},
   "outputs": [
    {
     "data": {
      "text/plain": [
       "64736"
      ]
     },
     "execution_count": 26,
     "metadata": {},
     "output_type": "execute_result"
    }
   ],
   "source": [
    "new_table_players = new_table[new_table['hosting']=='Away']\n",
    "len(new_table_players)"
   ]
  },
  {
   "cell_type": "code",
   "execution_count": 27,
   "metadata": {},
   "outputs": [
    {
     "data": {
      "text/plain": [
       "64736"
      ]
     },
     "execution_count": 27,
     "metadata": {},
     "output_type": "execute_result"
    }
   ],
   "source": [
    "new_table_players_away = new_table[new_table['hosting']=='Away']\n",
    "len(new_table_players_away)"
   ]
  },
  {
   "cell_type": "code",
   "execution_count": 28,
   "metadata": {},
   "outputs": [
    {
     "data": {
      "text/plain": [
       "0    111188\n",
       "1     17708\n",
       "2       576\n",
       "Name: yellow_cards, dtype: int64"
      ]
     },
     "execution_count": 28,
     "metadata": {},
     "output_type": "execute_result"
    }
   ],
   "source": [
    "new_table['yellow_cards'].value_counts()"
   ]
  },
  {
   "cell_type": "code",
   "execution_count": 29,
   "metadata": {},
   "outputs": [
    {
     "data": {
      "text/plain": [
       "0    128852\n",
       "1       620\n",
       "Name: red_cards, dtype: int64"
      ]
     },
     "execution_count": 29,
     "metadata": {},
     "output_type": "execute_result"
    }
   ],
   "source": [
    "new_table['red_cards'].value_counts()"
   ]
  },
  {
   "cell_type": "code",
   "execution_count": null,
   "metadata": {},
   "outputs": [],
   "source": []
  },
  {
   "cell_type": "code",
   "execution_count": 30,
   "metadata": {},
   "outputs": [
    {
     "data": {
      "text/plain": [
       "0    110602\n",
       "1     18260\n",
       "2       610\n",
       "Name: sum_cards, dtype: int64"
      ]
     },
     "execution_count": 30,
     "metadata": {},
     "output_type": "execute_result"
    }
   ],
   "source": [
    "new_table['sum_cards'] =  new_table['red_cards']+new_table['yellow_cards']\n",
    "new_table['sum_cards'].value_counts()"
   ]
  },
  {
   "cell_type": "code",
   "execution_count": 31,
   "metadata": {},
   "outputs": [
    {
     "data": {
      "text/plain": [
       "hosting  sum_cards\n",
       "Away     0            55301\n",
       "         1             9130\n",
       "         2              305\n",
       "Home     0            55301\n",
       "         1             9130\n",
       "         2              305\n",
       "Name: sum_cards, dtype: int64"
      ]
     },
     "execution_count": 31,
     "metadata": {},
     "output_type": "execute_result"
    }
   ],
   "source": [
    "group_away = new_table.groupby('hosting')['sum_cards'].value_counts()\n",
    "group_away"
   ]
  },
  {
   "cell_type": "code",
   "execution_count": null,
   "metadata": {},
   "outputs": [],
   "source": []
  },
  {
   "cell_type": "code",
   "execution_count": 37,
   "metadata": {},
   "outputs": [
    {
     "data": {
      "text/html": [
       "<div>\n",
       "<style scoped>\n",
       "    .dataframe tbody tr th:only-of-type {\n",
       "        vertical-align: middle;\n",
       "    }\n",
       "\n",
       "    .dataframe tbody tr th {\n",
       "        vertical-align: top;\n",
       "    }\n",
       "\n",
       "    .dataframe thead th {\n",
       "        text-align: right;\n",
       "    }\n",
       "</style>\n",
       "<table border=\"1\" class=\"dataframe\">\n",
       "  <thead>\n",
       "    <tr style=\"text-align: right;\">\n",
       "      <th></th>\n",
       "      <th>sum_cards</th>\n",
       "    </tr>\n",
       "    <tr>\n",
       "      <th>player_name</th>\n",
       "      <th></th>\n",
       "    </tr>\n",
       "  </thead>\n",
       "  <tbody>\n",
       "    <tr>\n",
       "      <th>Aaron Dhondt</th>\n",
       "      <td>0</td>\n",
       "    </tr>\n",
       "    <tr>\n",
       "      <th>Aaron Leya Iseka</th>\n",
       "      <td>0</td>\n",
       "    </tr>\n",
       "    <tr>\n",
       "      <th>Aaron Tshibola</th>\n",
       "      <td>2</td>\n",
       "    </tr>\n",
       "    <tr>\n",
       "      <th>Abakar Sylla</th>\n",
       "      <td>16</td>\n",
       "    </tr>\n",
       "    <tr>\n",
       "      <th>Abdelkahar Kadri</th>\n",
       "      <td>14</td>\n",
       "    </tr>\n",
       "    <tr>\n",
       "      <th>...</th>\n",
       "      <td>...</td>\n",
       "    </tr>\n",
       "    <tr>\n",
       "      <th>Álex Millán</th>\n",
       "      <td>4</td>\n",
       "    </tr>\n",
       "    <tr>\n",
       "      <th>Éder Balanta</th>\n",
       "      <td>30</td>\n",
       "    </tr>\n",
       "    <tr>\n",
       "      <th>Élie Youan</th>\n",
       "      <td>0</td>\n",
       "    </tr>\n",
       "    <tr>\n",
       "      <th>Ólafur Ingi Skúlason</th>\n",
       "      <td>24</td>\n",
       "    </tr>\n",
       "    <tr>\n",
       "      <th>Óscar Duarte</th>\n",
       "      <td>6</td>\n",
       "    </tr>\n",
       "  </tbody>\n",
       "</table>\n",
       "<p>1794 rows × 1 columns</p>\n",
       "</div>"
      ],
      "text/plain": [
       "                      sum_cards\n",
       "player_name                    \n",
       "Aaron Dhondt                  0\n",
       "Aaron Leya Iseka              0\n",
       "Aaron Tshibola                2\n",
       "Abakar Sylla                 16\n",
       "Abdelkahar Kadri             14\n",
       "...                         ...\n",
       "Álex Millán                   4\n",
       "Éder Balanta                 30\n",
       "Élie Youan                    0\n",
       "Ólafur Ingi Skúlason         24\n",
       "Óscar Duarte                  6\n",
       "\n",
       "[1794 rows x 1 columns]"
      ]
     },
     "execution_count": 37,
     "metadata": {},
     "output_type": "execute_result"
    }
   ],
   "source": [
    "group_away = new_table.groupby('player_name')[['sum_cards']]\n",
    "group_away.sum(numeric_only=True)"
   ]
  },
  {
   "cell_type": "code",
   "execution_count": 33,
   "metadata": {},
   "outputs": [],
   "source": [
    "#new_table = pd.merge(appearance_belgium, club_games, on='game_id')\n",
    "#plt.pie(new_table_players['red_cards'])\n",
    "\n",
    "#plt.show()"
   ]
  },
  {
   "cell_type": "code",
   "execution_count": 34,
   "metadata": {},
   "outputs": [
    {
     "data": {
      "text/html": [
       "<div>\n",
       "<style scoped>\n",
       "    .dataframe tbody tr th:only-of-type {\n",
       "        vertical-align: middle;\n",
       "    }\n",
       "\n",
       "    .dataframe tbody tr th {\n",
       "        vertical-align: top;\n",
       "    }\n",
       "\n",
       "    .dataframe thead th {\n",
       "        text-align: right;\n",
       "    }\n",
       "</style>\n",
       "<table border=\"1\" class=\"dataframe\">\n",
       "  <thead>\n",
       "    <tr style=\"text-align: right;\">\n",
       "      <th></th>\n",
       "      <th>appearance_id</th>\n",
       "      <th>game_id</th>\n",
       "      <th>player_id</th>\n",
       "      <th>player_club_id</th>\n",
       "      <th>player_current_club_id</th>\n",
       "      <th>date</th>\n",
       "      <th>player_name</th>\n",
       "      <th>competition_id</th>\n",
       "      <th>yellow_cards</th>\n",
       "      <th>red_cards</th>\n",
       "      <th>...</th>\n",
       "      <th>own_goals</th>\n",
       "      <th>own_position</th>\n",
       "      <th>own_manager_name</th>\n",
       "      <th>opponent_id</th>\n",
       "      <th>opponent_goals</th>\n",
       "      <th>opponent_position</th>\n",
       "      <th>opponent_manager_name</th>\n",
       "      <th>hosting</th>\n",
       "      <th>is_win</th>\n",
       "      <th>sum_cards</th>\n",
       "    </tr>\n",
       "  </thead>\n",
       "  <tbody>\n",
       "    <tr>\n",
       "      <th>1</th>\n",
       "      <td>2479873_73846</td>\n",
       "      <td>2479873</td>\n",
       "      <td>73846</td>\n",
       "      <td>3057</td>\n",
       "      <td>2293</td>\n",
       "      <td>2014-08-02</td>\n",
       "      <td>Paul-José Mpoku</td>\n",
       "      <td>BE1</td>\n",
       "      <td>1</td>\n",
       "      <td>0</td>\n",
       "      <td>...</td>\n",
       "      <td>3</td>\n",
       "      <td>1</td>\n",
       "      <td>Guy Luzon</td>\n",
       "      <td>601</td>\n",
       "      <td>2</td>\n",
       "      <td>13</td>\n",
       "      <td>Yves Vanderhaeghe</td>\n",
       "      <td>Away</td>\n",
       "      <td>1</td>\n",
       "      <td>1</td>\n",
       "    </tr>\n",
       "    <tr>\n",
       "      <th>3</th>\n",
       "      <td>2479873_111061</td>\n",
       "      <td>2479873</td>\n",
       "      <td>111061</td>\n",
       "      <td>601</td>\n",
       "      <td>7179</td>\n",
       "      <td>2014-08-02</td>\n",
       "      <td>Alassane També</td>\n",
       "      <td>BE1</td>\n",
       "      <td>0</td>\n",
       "      <td>0</td>\n",
       "      <td>...</td>\n",
       "      <td>3</td>\n",
       "      <td>1</td>\n",
       "      <td>Guy Luzon</td>\n",
       "      <td>601</td>\n",
       "      <td>2</td>\n",
       "      <td>13</td>\n",
       "      <td>Yves Vanderhaeghe</td>\n",
       "      <td>Away</td>\n",
       "      <td>1</td>\n",
       "      <td>0</td>\n",
       "    </tr>\n",
       "    <tr>\n",
       "      <th>5</th>\n",
       "      <td>2479873_132764</td>\n",
       "      <td>2479873</td>\n",
       "      <td>132764</td>\n",
       "      <td>3057</td>\n",
       "      <td>465</td>\n",
       "      <td>2014-08-02</td>\n",
       "      <td>Tony Watt</td>\n",
       "      <td>BE1</td>\n",
       "      <td>0</td>\n",
       "      <td>0</td>\n",
       "      <td>...</td>\n",
       "      <td>3</td>\n",
       "      <td>1</td>\n",
       "      <td>Guy Luzon</td>\n",
       "      <td>601</td>\n",
       "      <td>2</td>\n",
       "      <td>13</td>\n",
       "      <td>Yves Vanderhaeghe</td>\n",
       "      <td>Away</td>\n",
       "      <td>1</td>\n",
       "      <td>0</td>\n",
       "    </tr>\n",
       "    <tr>\n",
       "      <th>7</th>\n",
       "      <td>2479873_207827</td>\n",
       "      <td>2479873</td>\n",
       "      <td>207827</td>\n",
       "      <td>3057</td>\n",
       "      <td>29228</td>\n",
       "      <td>2014-08-02</td>\n",
       "      <td>Yanis Mbombo</td>\n",
       "      <td>BE1</td>\n",
       "      <td>0</td>\n",
       "      <td>0</td>\n",
       "      <td>...</td>\n",
       "      <td>3</td>\n",
       "      <td>1</td>\n",
       "      <td>Guy Luzon</td>\n",
       "      <td>601</td>\n",
       "      <td>2</td>\n",
       "      <td>13</td>\n",
       "      <td>Yves Vanderhaeghe</td>\n",
       "      <td>Away</td>\n",
       "      <td>1</td>\n",
       "      <td>0</td>\n",
       "    </tr>\n",
       "    <tr>\n",
       "      <th>9</th>\n",
       "      <td>2479873_45455</td>\n",
       "      <td>2479873</td>\n",
       "      <td>45455</td>\n",
       "      <td>3057</td>\n",
       "      <td>498</td>\n",
       "      <td>2014-08-02</td>\n",
       "      <td>Geoffrey Mujangi Bia</td>\n",
       "      <td>BE1</td>\n",
       "      <td>0</td>\n",
       "      <td>0</td>\n",
       "      <td>...</td>\n",
       "      <td>3</td>\n",
       "      <td>1</td>\n",
       "      <td>Guy Luzon</td>\n",
       "      <td>601</td>\n",
       "      <td>2</td>\n",
       "      <td>13</td>\n",
       "      <td>Yves Vanderhaeghe</td>\n",
       "      <td>Away</td>\n",
       "      <td>1</td>\n",
       "      <td>0</td>\n",
       "    </tr>\n",
       "  </tbody>\n",
       "</table>\n",
       "<p>5 rows × 24 columns</p>\n",
       "</div>"
      ],
      "text/plain": [
       "    appearance_id  game_id  player_id  player_club_id  player_current_club_id  \\\n",
       "1   2479873_73846  2479873      73846            3057                    2293   \n",
       "3  2479873_111061  2479873     111061             601                    7179   \n",
       "5  2479873_132764  2479873     132764            3057                     465   \n",
       "7  2479873_207827  2479873     207827            3057                   29228   \n",
       "9   2479873_45455  2479873      45455            3057                     498   \n",
       "\n",
       "         date           player_name competition_id  yellow_cards  red_cards  \\\n",
       "1  2014-08-02       Paul-José Mpoku            BE1             1          0   \n",
       "3  2014-08-02        Alassane També            BE1             0          0   \n",
       "5  2014-08-02             Tony Watt            BE1             0          0   \n",
       "7  2014-08-02          Yanis Mbombo            BE1             0          0   \n",
       "9  2014-08-02  Geoffrey Mujangi Bia            BE1             0          0   \n",
       "\n",
       "   ...  own_goals  own_position  own_manager_name  opponent_id  \\\n",
       "1  ...          3             1         Guy Luzon          601   \n",
       "3  ...          3             1         Guy Luzon          601   \n",
       "5  ...          3             1         Guy Luzon          601   \n",
       "7  ...          3             1         Guy Luzon          601   \n",
       "9  ...          3             1         Guy Luzon          601   \n",
       "\n",
       "   opponent_goals  opponent_position opponent_manager_name  hosting  is_win  \\\n",
       "1               2                 13     Yves Vanderhaeghe     Away       1   \n",
       "3               2                 13     Yves Vanderhaeghe     Away       1   \n",
       "5               2                 13     Yves Vanderhaeghe     Away       1   \n",
       "7               2                 13     Yves Vanderhaeghe     Away       1   \n",
       "9               2                 13     Yves Vanderhaeghe     Away       1   \n",
       "\n",
       "   sum_cards  \n",
       "1          1  \n",
       "3          0  \n",
       "5          0  \n",
       "7          0  \n",
       "9          0  \n",
       "\n",
       "[5 rows x 24 columns]"
      ]
     },
     "execution_count": 34,
     "metadata": {},
     "output_type": "execute_result"
    }
   ],
   "source": [
    "new_table_away_players = new_table[new_table['hosting']=='Away']\n",
    "new_table_away_players.head()"
   ]
  },
  {
   "cell_type": "code",
   "execution_count": 35,
   "metadata": {},
   "outputs": [
    {
     "data": {
      "image/png": "[encoded data removed]",
      "text/plain": [
       "<Figure size 640x480 with 1 Axes>"
      ]
     },
     "metadata": {},
     "output_type": "display_data"
    }
   ],
   "source": [
    "#new_table = pd.merge(appearance_belgium, club_games, on='game_id')\n",
    "plt.pie(new_table_away_players['red_cards'].value_counts(normalize=True))\n",
    "\n",
    "plt.show()"
   ]
  }
 ],
 "metadata": {
  "kernelspec": {
   "display_name": "Python 3",
   "language": "python",
   "name": "python3"
  },
  "language_info": {
   "codemirror_mode": {
    "name": "ipython",
    "version": 3
   },
   "file_extension": ".py",
   "mimetype": "text/x-python",
   "name": "python",
   "nbconvert_exporter": "python",
   "pygments_lexer": "ipython3",
   "version": "3.8.10"
  },
  "orig_nbformat": 4
 },
 "nbformat": 4,
 "nbformat_minor": 2
}
