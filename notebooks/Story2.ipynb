{
 "cells": [
  {
   "cell_type": "code",
   "execution_count": 1,
   "metadata": {},
   "outputs": [],
   "source": [
    "import pandas as pd\n",
    "club_games = pd.read_csv('/home/becode/Desktop/5#StoryTelling/data/club_games.csv')\n"
   ]
  },
  {
   "cell_type": "code",
   "execution_count": 2,
   "metadata": {},
   "outputs": [
    {
     "data": {
      "text/plain": [
       "club_id                   int64\n",
       "game_id                   int64\n",
       "own_goals                 int64\n",
       "own_position              int64\n",
       "own_manager_name         object\n",
       "opponent_id               int64\n",
       "opponent_goals            int64\n",
       "opponent_position         int64\n",
       "opponent_manager_name    object\n",
       "hosting                  object\n",
       "is_win                    int64\n",
       "dtype: object"
      ]
     },
     "execution_count": 2,
     "metadata": {},
     "output_type": "execute_result"
    }
   ],
   "source": [
    "club_games.dtypes"
   ]
  },
  {
   "cell_type": "code",
   "execution_count": 3,
   "metadata": {},
   "outputs": [
    {
     "data": {
      "text/html": [
       "<div>\n",
       "<style scoped>\n",
       "    .dataframe tbody tr th:only-of-type {\n",
       "        vertical-align: middle;\n",
       "    }\n",
       "\n",
       "    .dataframe tbody tr th {\n",
       "        vertical-align: top;\n",
       "    }\n",
       "\n",
       "    .dataframe thead th {\n",
       "        text-align: right;\n",
       "    }\n",
       "</style>\n",
       "<table border=\"1\" class=\"dataframe\">\n",
       "  <thead>\n",
       "    <tr style=\"text-align: right;\">\n",
       "      <th></th>\n",
       "      <th>game_id</th>\n",
       "      <th>player_id</th>\n",
       "      <th>player_club_id</th>\n",
       "      <th>player_current_club_id</th>\n",
       "      <th>yellow_cards</th>\n",
       "      <th>red_cards</th>\n",
       "      <th>goals</th>\n",
       "      <th>assists</th>\n",
       "      <th>minutes_played</th>\n",
       "    </tr>\n",
       "  </thead>\n",
       "  <tbody>\n",
       "    <tr>\n",
       "      <th>count</th>\n",
       "      <td>1.166215e+06</td>\n",
       "      <td>1.166215e+06</td>\n",
       "      <td>1.166215e+06</td>\n",
       "      <td>1.166215e+06</td>\n",
       "      <td>1.166215e+06</td>\n",
       "      <td>1.166215e+06</td>\n",
       "      <td>1.166215e+06</td>\n",
       "      <td>1.166215e+06</td>\n",
       "      <td>1.166215e+06</td>\n",
       "    </tr>\n",
       "    <tr>\n",
       "      <th>mean</th>\n",
       "      <td>3.098286e+06</td>\n",
       "      <td>1.906905e+05</td>\n",
       "      <td>2.858970e+03</td>\n",
       "      <td>3.300416e+03</td>\n",
       "      <td>1.488602e-01</td>\n",
       "      <td>3.616829e-03</td>\n",
       "      <td>9.679090e-02</td>\n",
       "      <td>7.357991e-02</td>\n",
       "      <td>6.976547e+01</td>\n",
       "    </tr>\n",
       "    <tr>\n",
       "      <th>std</th>\n",
       "      <td>4.435312e+05</td>\n",
       "      <td>1.572813e+05</td>\n",
       "      <td>6.909196e+03</td>\n",
       "      <td>8.355203e+03</td>\n",
       "      <td>3.672712e-01</td>\n",
       "      <td>6.003125e-02</td>\n",
       "      <td>3.328494e-01</td>\n",
       "      <td>2.817264e-01</td>\n",
       "      <td>2.972476e+01</td>\n",
       "    </tr>\n",
       "    <tr>\n",
       "      <th>min</th>\n",
       "      <td>-1.000000e+00</td>\n",
       "      <td>1.000000e+01</td>\n",
       "      <td>1.000000e+00</td>\n",
       "      <td>-1.000000e+00</td>\n",
       "      <td>0.000000e+00</td>\n",
       "      <td>0.000000e+00</td>\n",
       "      <td>0.000000e+00</td>\n",
       "      <td>0.000000e+00</td>\n",
       "      <td>0.000000e+00</td>\n",
       "    </tr>\n",
       "    <tr>\n",
       "      <th>25%</th>\n",
       "      <td>2.700926e+06</td>\n",
       "      <td>6.157300e+04</td>\n",
       "      <td>2.810000e+02</td>\n",
       "      <td>3.310000e+02</td>\n",
       "      <td>0.000000e+00</td>\n",
       "      <td>0.000000e+00</td>\n",
       "      <td>0.000000e+00</td>\n",
       "      <td>0.000000e+00</td>\n",
       "      <td>5.300000e+01</td>\n",
       "    </tr>\n",
       "    <tr>\n",
       "      <th>50%</th>\n",
       "      <td>3.069978e+06</td>\n",
       "      <td>1.495320e+05</td>\n",
       "      <td>8.550000e+02</td>\n",
       "      <td>8.680000e+02</td>\n",
       "      <td>0.000000e+00</td>\n",
       "      <td>0.000000e+00</td>\n",
       "      <td>0.000000e+00</td>\n",
       "      <td>0.000000e+00</td>\n",
       "      <td>9.000000e+01</td>\n",
       "    </tr>\n",
       "    <tr>\n",
       "      <th>75%</th>\n",
       "      <td>3.450678e+06</td>\n",
       "      <td>2.783430e+05</td>\n",
       "      <td>2.441000e+03</td>\n",
       "      <td>2.578000e+03</td>\n",
       "      <td>0.000000e+00</td>\n",
       "      <td>0.000000e+00</td>\n",
       "      <td>0.000000e+00</td>\n",
       "      <td>0.000000e+00</td>\n",
       "      <td>9.000000e+01</td>\n",
       "    </tr>\n",
       "    <tr>\n",
       "      <th>max</th>\n",
       "      <td>4.055287e+06</td>\n",
       "      <td>1.110406e+06</td>\n",
       "      <td>8.367800e+04</td>\n",
       "      <td>8.367800e+04</td>\n",
       "      <td>2.000000e+00</td>\n",
       "      <td>1.000000e+00</td>\n",
       "      <td>6.000000e+00</td>\n",
       "      <td>6.000000e+00</td>\n",
       "      <td>1.200000e+02</td>\n",
       "    </tr>\n",
       "  </tbody>\n",
       "</table>\n",
       "</div>"
      ],
      "text/plain": [
       "            game_id     player_id  player_club_id  player_current_club_id  \\\n",
       "count  1.166215e+06  1.166215e+06    1.166215e+06            1.166215e+06   \n",
       "mean   3.098286e+06  1.906905e+05    2.858970e+03            3.300416e+03   \n",
       "std    4.435312e+05  1.572813e+05    6.909196e+03            8.355203e+03   \n",
       "min   -1.000000e+00  1.000000e+01    1.000000e+00           -1.000000e+00   \n",
       "25%    2.700926e+06  6.157300e+04    2.810000e+02            3.310000e+02   \n",
       "50%    3.069978e+06  1.495320e+05    8.550000e+02            8.680000e+02   \n",
       "75%    3.450678e+06  2.783430e+05    2.441000e+03            2.578000e+03   \n",
       "max    4.055287e+06  1.110406e+06    8.367800e+04            8.367800e+04   \n",
       "\n",
       "       yellow_cards     red_cards         goals       assists  minutes_played  \n",
       "count  1.166215e+06  1.166215e+06  1.166215e+06  1.166215e+06    1.166215e+06  \n",
       "mean   1.488602e-01  3.616829e-03  9.679090e-02  7.357991e-02    6.976547e+01  \n",
       "std    3.672712e-01  6.003125e-02  3.328494e-01  2.817264e-01    2.972476e+01  \n",
       "min    0.000000e+00  0.000000e+00  0.000000e+00  0.000000e+00    0.000000e+00  \n",
       "25%    0.000000e+00  0.000000e+00  0.000000e+00  0.000000e+00    5.300000e+01  \n",
       "50%    0.000000e+00  0.000000e+00  0.000000e+00  0.000000e+00    9.000000e+01  \n",
       "75%    0.000000e+00  0.000000e+00  0.000000e+00  0.000000e+00    9.000000e+01  \n",
       "max    2.000000e+00  1.000000e+00  6.000000e+00  6.000000e+00    1.200000e+02  "
      ]
     },
     "execution_count": 3,
     "metadata": {},
     "output_type": "execute_result"
    }
   ],
   "source": [
    "appearance = pd.read_csv('/home/becode/Desktop/5#StoryTelling/data/appearances.csv')\n",
    "#appearance['new_calc']=appearance.apply(lambda row: row.yellow_cards + row.red_cards , axis=1)\n",
    "appearance.describe()\n"
   ]
  },
  {
   "cell_type": "code",
   "execution_count": 4,
   "metadata": {},
   "outputs": [],
   "source": [
    "new_table = appearance[appearance['competition_id']=='BE1']"
   ]
  },
  {
   "cell_type": "code",
   "execution_count": 5,
   "metadata": {},
   "outputs": [
    {
     "data": {
      "text/html": [
       "<div>\n",
       "<style scoped>\n",
       "    .dataframe tbody tr th:only-of-type {\n",
       "        vertical-align: middle;\n",
       "    }\n",
       "\n",
       "    .dataframe tbody tr th {\n",
       "        vertical-align: top;\n",
       "    }\n",
       "\n",
       "    .dataframe thead th {\n",
       "        text-align: right;\n",
       "    }\n",
       "</style>\n",
       "<table border=\"1\" class=\"dataframe\">\n",
       "  <thead>\n",
       "    <tr style=\"text-align: right;\">\n",
       "      <th></th>\n",
       "      <th>game_id</th>\n",
       "      <th>player_id</th>\n",
       "      <th>player_club_id</th>\n",
       "      <th>player_current_club_id</th>\n",
       "      <th>yellow_cards</th>\n",
       "      <th>red_cards</th>\n",
       "      <th>goals</th>\n",
       "      <th>assists</th>\n",
       "      <th>minutes_played</th>\n",
       "    </tr>\n",
       "  </thead>\n",
       "  <tbody>\n",
       "    <tr>\n",
       "      <th>count</th>\n",
       "      <td>6.476400e+04</td>\n",
       "      <td>6.476400e+04</td>\n",
       "      <td>64764.000000</td>\n",
       "      <td>64764.000000</td>\n",
       "      <td>64764.000000</td>\n",
       "      <td>64764.000000</td>\n",
       "      <td>64764.000000</td>\n",
       "      <td>64764.000000</td>\n",
       "      <td>64764.000000</td>\n",
       "    </tr>\n",
       "    <tr>\n",
       "      <th>mean</th>\n",
       "      <td>3.159646e+06</td>\n",
       "      <td>2.346479e+05</td>\n",
       "      <td>4427.158684</td>\n",
       "      <td>3519.125996</td>\n",
       "      <td>0.145636</td>\n",
       "      <td>0.004787</td>\n",
       "      <td>0.099901</td>\n",
       "      <td>0.075845</td>\n",
       "      <td>70.251081</td>\n",
       "    </tr>\n",
       "    <tr>\n",
       "      <th>std</th>\n",
       "      <td>4.389001e+05</td>\n",
       "      <td>1.793906e+05</td>\n",
       "      <td>9152.036314</td>\n",
       "      <td>7780.079724</td>\n",
       "      <td>0.365133</td>\n",
       "      <td>0.069020</td>\n",
       "      <td>0.334899</td>\n",
       "      <td>0.283345</td>\n",
       "      <td>29.764378</td>\n",
       "    </tr>\n",
       "    <tr>\n",
       "      <th>min</th>\n",
       "      <td>2.469866e+06</td>\n",
       "      <td>3.441000e+03</td>\n",
       "      <td>58.000000</td>\n",
       "      <td>3.000000</td>\n",
       "      <td>0.000000</td>\n",
       "      <td>0.000000</td>\n",
       "      <td>0.000000</td>\n",
       "      <td>0.000000</td>\n",
       "      <td>1.000000</td>\n",
       "    </tr>\n",
       "    <tr>\n",
       "      <th>25%</th>\n",
       "      <td>2.732155e+06</td>\n",
       "      <td>9.622700e+04</td>\n",
       "      <td>475.000000</td>\n",
       "      <td>410.000000</td>\n",
       "      <td>0.000000</td>\n",
       "      <td>0.000000</td>\n",
       "      <td>0.000000</td>\n",
       "      <td>0.000000</td>\n",
       "      <td>58.000000</td>\n",
       "    </tr>\n",
       "    <tr>\n",
       "      <th>50%</th>\n",
       "      <td>3.140014e+06</td>\n",
       "      <td>1.877440e+05</td>\n",
       "      <td>1184.000000</td>\n",
       "      <td>1096.000000</td>\n",
       "      <td>0.000000</td>\n",
       "      <td>0.000000</td>\n",
       "      <td>0.000000</td>\n",
       "      <td>0.000000</td>\n",
       "      <td>90.000000</td>\n",
       "    </tr>\n",
       "    <tr>\n",
       "      <th>75%</th>\n",
       "      <td>3.598119e+06</td>\n",
       "      <td>3.434630e+05</td>\n",
       "      <td>2861.000000</td>\n",
       "      <td>2861.000000</td>\n",
       "      <td>0.000000</td>\n",
       "      <td>0.000000</td>\n",
       "      <td>0.000000</td>\n",
       "      <td>0.000000</td>\n",
       "      <td>90.000000</td>\n",
       "    </tr>\n",
       "    <tr>\n",
       "      <th>max</th>\n",
       "      <td>3.851361e+06</td>\n",
       "      <td>1.103981e+06</td>\n",
       "      <td>41274.000000</td>\n",
       "      <td>60551.000000</td>\n",
       "      <td>2.000000</td>\n",
       "      <td>1.000000</td>\n",
       "      <td>5.000000</td>\n",
       "      <td>3.000000</td>\n",
       "      <td>90.000000</td>\n",
       "    </tr>\n",
       "  </tbody>\n",
       "</table>\n",
       "</div>"
      ],
      "text/plain": [
       "            game_id     player_id  player_club_id  player_current_club_id  \\\n",
       "count  6.476400e+04  6.476400e+04    64764.000000            64764.000000   \n",
       "mean   3.159646e+06  2.346479e+05     4427.158684             3519.125996   \n",
       "std    4.389001e+05  1.793906e+05     9152.036314             7780.079724   \n",
       "min    2.469866e+06  3.441000e+03       58.000000                3.000000   \n",
       "25%    2.732155e+06  9.622700e+04      475.000000              410.000000   \n",
       "50%    3.140014e+06  1.877440e+05     1184.000000             1096.000000   \n",
       "75%    3.598119e+06  3.434630e+05     2861.000000             2861.000000   \n",
       "max    3.851361e+06  1.103981e+06    41274.000000            60551.000000   \n",
       "\n",
       "       yellow_cards     red_cards         goals       assists  minutes_played  \n",
       "count  64764.000000  64764.000000  64764.000000  64764.000000    64764.000000  \n",
       "mean       0.145636      0.004787      0.099901      0.075845       70.251081  \n",
       "std        0.365133      0.069020      0.334899      0.283345       29.764378  \n",
       "min        0.000000      0.000000      0.000000      0.000000        1.000000  \n",
       "25%        0.000000      0.000000      0.000000      0.000000       58.000000  \n",
       "50%        0.000000      0.000000      0.000000      0.000000       90.000000  \n",
       "75%        0.000000      0.000000      0.000000      0.000000       90.000000  \n",
       "max        2.000000      1.000000      5.000000      3.000000       90.000000  "
      ]
     },
     "execution_count": 5,
     "metadata": {},
     "output_type": "execute_result"
    }
   ],
   "source": [
    "new_table.describe()"
   ]
  },
  {
   "cell_type": "code",
   "execution_count": 6,
   "metadata": {},
   "outputs": [
    {
     "data": {
      "text/plain": [
       "129472"
      ]
     },
     "execution_count": 6,
     "metadata": {},
     "output_type": "execute_result"
    }
   ],
   "source": [
    "new_table = pd.merge(new_table, club_games,left_on='game_id', right_on='game_id')\n",
    "len(new_table)"
   ]
  },
  {
   "cell_type": "code",
   "execution_count": 7,
   "metadata": {},
   "outputs": [
    {
     "data": {
      "text/html": [
       "<div>\n",
       "<style scoped>\n",
       "    .dataframe tbody tr th:only-of-type {\n",
       "        vertical-align: middle;\n",
       "    }\n",
       "\n",
       "    .dataframe tbody tr th {\n",
       "        vertical-align: top;\n",
       "    }\n",
       "\n",
       "    .dataframe thead th {\n",
       "        text-align: right;\n",
       "    }\n",
       "</style>\n",
       "<table border=\"1\" class=\"dataframe\">\n",
       "  <thead>\n",
       "    <tr style=\"text-align: right;\">\n",
       "      <th></th>\n",
       "      <th>appearance_id</th>\n",
       "      <th>game_id</th>\n",
       "      <th>player_id</th>\n",
       "      <th>player_club_id</th>\n",
       "      <th>player_current_club_id</th>\n",
       "      <th>date</th>\n",
       "      <th>player_name</th>\n",
       "      <th>competition_id</th>\n",
       "      <th>yellow_cards</th>\n",
       "      <th>red_cards</th>\n",
       "      <th>...</th>\n",
       "      <th>club_id</th>\n",
       "      <th>own_goals</th>\n",
       "      <th>own_position</th>\n",
       "      <th>own_manager_name</th>\n",
       "      <th>opponent_id</th>\n",
       "      <th>opponent_goals</th>\n",
       "      <th>opponent_position</th>\n",
       "      <th>opponent_manager_name</th>\n",
       "      <th>hosting</th>\n",
       "      <th>is_win</th>\n",
       "    </tr>\n",
       "  </thead>\n",
       "  <tbody>\n",
       "    <tr>\n",
       "      <th>0</th>\n",
       "      <td>2479873_73846</td>\n",
       "      <td>2479873</td>\n",
       "      <td>73846</td>\n",
       "      <td>3057</td>\n",
       "      <td>2293</td>\n",
       "      <td>2014-08-02</td>\n",
       "      <td>Paul-José Mpoku</td>\n",
       "      <td>BE1</td>\n",
       "      <td>1</td>\n",
       "      <td>0</td>\n",
       "      <td>...</td>\n",
       "      <td>601</td>\n",
       "      <td>2</td>\n",
       "      <td>13</td>\n",
       "      <td>Yves Vanderhaeghe</td>\n",
       "      <td>3057</td>\n",
       "      <td>3</td>\n",
       "      <td>1</td>\n",
       "      <td>Guy Luzon</td>\n",
       "      <td>Home</td>\n",
       "      <td>0</td>\n",
       "    </tr>\n",
       "    <tr>\n",
       "      <th>1</th>\n",
       "      <td>2479873_73846</td>\n",
       "      <td>2479873</td>\n",
       "      <td>73846</td>\n",
       "      <td>3057</td>\n",
       "      <td>2293</td>\n",
       "      <td>2014-08-02</td>\n",
       "      <td>Paul-José Mpoku</td>\n",
       "      <td>BE1</td>\n",
       "      <td>1</td>\n",
       "      <td>0</td>\n",
       "      <td>...</td>\n",
       "      <td>3057</td>\n",
       "      <td>3</td>\n",
       "      <td>1</td>\n",
       "      <td>Guy Luzon</td>\n",
       "      <td>601</td>\n",
       "      <td>2</td>\n",
       "      <td>13</td>\n",
       "      <td>Yves Vanderhaeghe</td>\n",
       "      <td>Away</td>\n",
       "      <td>1</td>\n",
       "    </tr>\n",
       "    <tr>\n",
       "      <th>2</th>\n",
       "      <td>2479873_111061</td>\n",
       "      <td>2479873</td>\n",
       "      <td>111061</td>\n",
       "      <td>601</td>\n",
       "      <td>7179</td>\n",
       "      <td>2014-08-02</td>\n",
       "      <td>Alassane També</td>\n",
       "      <td>BE1</td>\n",
       "      <td>0</td>\n",
       "      <td>0</td>\n",
       "      <td>...</td>\n",
       "      <td>601</td>\n",
       "      <td>2</td>\n",
       "      <td>13</td>\n",
       "      <td>Yves Vanderhaeghe</td>\n",
       "      <td>3057</td>\n",
       "      <td>3</td>\n",
       "      <td>1</td>\n",
       "      <td>Guy Luzon</td>\n",
       "      <td>Home</td>\n",
       "      <td>0</td>\n",
       "    </tr>\n",
       "    <tr>\n",
       "      <th>3</th>\n",
       "      <td>2479873_111061</td>\n",
       "      <td>2479873</td>\n",
       "      <td>111061</td>\n",
       "      <td>601</td>\n",
       "      <td>7179</td>\n",
       "      <td>2014-08-02</td>\n",
       "      <td>Alassane També</td>\n",
       "      <td>BE1</td>\n",
       "      <td>0</td>\n",
       "      <td>0</td>\n",
       "      <td>...</td>\n",
       "      <td>3057</td>\n",
       "      <td>3</td>\n",
       "      <td>1</td>\n",
       "      <td>Guy Luzon</td>\n",
       "      <td>601</td>\n",
       "      <td>2</td>\n",
       "      <td>13</td>\n",
       "      <td>Yves Vanderhaeghe</td>\n",
       "      <td>Away</td>\n",
       "      <td>1</td>\n",
       "    </tr>\n",
       "    <tr>\n",
       "      <th>4</th>\n",
       "      <td>2479873_132764</td>\n",
       "      <td>2479873</td>\n",
       "      <td>132764</td>\n",
       "      <td>3057</td>\n",
       "      <td>465</td>\n",
       "      <td>2014-08-02</td>\n",
       "      <td>Tony Watt</td>\n",
       "      <td>BE1</td>\n",
       "      <td>0</td>\n",
       "      <td>0</td>\n",
       "      <td>...</td>\n",
       "      <td>601</td>\n",
       "      <td>2</td>\n",
       "      <td>13</td>\n",
       "      <td>Yves Vanderhaeghe</td>\n",
       "      <td>3057</td>\n",
       "      <td>3</td>\n",
       "      <td>1</td>\n",
       "      <td>Guy Luzon</td>\n",
       "      <td>Home</td>\n",
       "      <td>0</td>\n",
       "    </tr>\n",
       "  </tbody>\n",
       "</table>\n",
       "<p>5 rows × 23 columns</p>\n",
       "</div>"
      ],
      "text/plain": [
       "    appearance_id  game_id  player_id  player_club_id  player_current_club_id  \\\n",
       "0   2479873_73846  2479873      73846            3057                    2293   \n",
       "1   2479873_73846  2479873      73846            3057                    2293   \n",
       "2  2479873_111061  2479873     111061             601                    7179   \n",
       "3  2479873_111061  2479873     111061             601                    7179   \n",
       "4  2479873_132764  2479873     132764            3057                     465   \n",
       "\n",
       "         date      player_name competition_id  yellow_cards  red_cards  ...  \\\n",
       "0  2014-08-02  Paul-José Mpoku            BE1             1          0  ...   \n",
       "1  2014-08-02  Paul-José Mpoku            BE1             1          0  ...   \n",
       "2  2014-08-02   Alassane També            BE1             0          0  ...   \n",
       "3  2014-08-02   Alassane També            BE1             0          0  ...   \n",
       "4  2014-08-02        Tony Watt            BE1             0          0  ...   \n",
       "\n",
       "   club_id  own_goals  own_position   own_manager_name  opponent_id  \\\n",
       "0      601          2            13  Yves Vanderhaeghe         3057   \n",
       "1     3057          3             1          Guy Luzon          601   \n",
       "2      601          2            13  Yves Vanderhaeghe         3057   \n",
       "3     3057          3             1          Guy Luzon          601   \n",
       "4      601          2            13  Yves Vanderhaeghe         3057   \n",
       "\n",
       "   opponent_goals opponent_position  opponent_manager_name  hosting  is_win  \n",
       "0               3                 1              Guy Luzon     Home       0  \n",
       "1               2                13      Yves Vanderhaeghe     Away       1  \n",
       "2               3                 1              Guy Luzon     Home       0  \n",
       "3               2                13      Yves Vanderhaeghe     Away       1  \n",
       "4               3                 1              Guy Luzon     Home       0  \n",
       "\n",
       "[5 rows x 23 columns]"
      ]
     },
     "execution_count": 7,
     "metadata": {},
     "output_type": "execute_result"
    }
   ],
   "source": [
    "new_table.head()"
   ]
  },
  {
   "cell_type": "code",
   "execution_count": 27,
   "metadata": {},
   "outputs": [
    {
     "data": {
      "text/html": [
       "<div>\n",
       "<style scoped>\n",
       "    .dataframe tbody tr th:only-of-type {\n",
       "        vertical-align: middle;\n",
       "    }\n",
       "\n",
       "    .dataframe tbody tr th {\n",
       "        vertical-align: top;\n",
       "    }\n",
       "\n",
       "    .dataframe thead th {\n",
       "        text-align: right;\n",
       "    }\n",
       "</style>\n",
       "<table border=\"1\" class=\"dataframe\">\n",
       "  <thead>\n",
       "    <tr style=\"text-align: right;\">\n",
       "      <th></th>\n",
       "      <th>appearance_id</th>\n",
       "      <th>game_id</th>\n",
       "      <th>player_id</th>\n",
       "      <th>player_club_id</th>\n",
       "      <th>player_current_club_id</th>\n",
       "      <th>date</th>\n",
       "      <th>player_name</th>\n",
       "      <th>competition_id</th>\n",
       "      <th>yellow_cards</th>\n",
       "      <th>red_cards</th>\n",
       "      <th>...</th>\n",
       "      <th>highest_market_value_in_eur_y</th>\n",
       "      <th>agent_name_y</th>\n",
       "      <th>contract_expiration_date_y</th>\n",
       "      <th>current_club_domestic_competition_id_y</th>\n",
       "      <th>first_name_y</th>\n",
       "      <th>last_name_y</th>\n",
       "      <th>player_code_y</th>\n",
       "      <th>image_url_y</th>\n",
       "      <th>last_season_y</th>\n",
       "      <th>url_y</th>\n",
       "    </tr>\n",
       "  </thead>\n",
       "  <tbody>\n",
       "    <tr>\n",
       "      <th>0</th>\n",
       "      <td>2479873_73846</td>\n",
       "      <td>2479873</td>\n",
       "      <td>73846</td>\n",
       "      <td>3057</td>\n",
       "      <td>2293</td>\n",
       "      <td>2014-08-02</td>\n",
       "      <td>Paul-José Mpoku</td>\n",
       "      <td>BE1</td>\n",
       "      <td>1</td>\n",
       "      <td>0</td>\n",
       "      <td>...</td>\n",
       "      <td>5000000.0</td>\n",
       "      <td>PMK COMPANY</td>\n",
       "      <td>NaN</td>\n",
       "      <td>TR1</td>\n",
       "      <td>Paul-José</td>\n",
       "      <td>Mpoku</td>\n",
       "      <td>paul-jose-mpoku</td>\n",
       "      <td>https://img.a.transfermarkt.technology/portrai...</td>\n",
       "      <td>2021</td>\n",
       "      <td>https://www.transfermarkt.co.uk/paul-jose-mpok...</td>\n",
       "    </tr>\n",
       "    <tr>\n",
       "      <th>1</th>\n",
       "      <td>2479873_73846</td>\n",
       "      <td>2479873</td>\n",
       "      <td>73846</td>\n",
       "      <td>3057</td>\n",
       "      <td>2293</td>\n",
       "      <td>2014-08-02</td>\n",
       "      <td>Paul-José Mpoku</td>\n",
       "      <td>BE1</td>\n",
       "      <td>1</td>\n",
       "      <td>0</td>\n",
       "      <td>...</td>\n",
       "      <td>5000000.0</td>\n",
       "      <td>PMK COMPANY</td>\n",
       "      <td>NaN</td>\n",
       "      <td>TR1</td>\n",
       "      <td>Paul-José</td>\n",
       "      <td>Mpoku</td>\n",
       "      <td>paul-jose-mpoku</td>\n",
       "      <td>https://img.a.transfermarkt.technology/portrai...</td>\n",
       "      <td>2021</td>\n",
       "      <td>https://www.transfermarkt.co.uk/paul-jose-mpok...</td>\n",
       "    </tr>\n",
       "    <tr>\n",
       "      <th>2</th>\n",
       "      <td>2479885_73846</td>\n",
       "      <td>2479885</td>\n",
       "      <td>73846</td>\n",
       "      <td>3057</td>\n",
       "      <td>2293</td>\n",
       "      <td>2014-08-10</td>\n",
       "      <td>Paul-José Mpoku</td>\n",
       "      <td>BE1</td>\n",
       "      <td>0</td>\n",
       "      <td>0</td>\n",
       "      <td>...</td>\n",
       "      <td>5000000.0</td>\n",
       "      <td>PMK COMPANY</td>\n",
       "      <td>NaN</td>\n",
       "      <td>TR1</td>\n",
       "      <td>Paul-José</td>\n",
       "      <td>Mpoku</td>\n",
       "      <td>paul-jose-mpoku</td>\n",
       "      <td>https://img.a.transfermarkt.technology/portrai...</td>\n",
       "      <td>2021</td>\n",
       "      <td>https://www.transfermarkt.co.uk/paul-jose-mpok...</td>\n",
       "    </tr>\n",
       "    <tr>\n",
       "      <th>3</th>\n",
       "      <td>2479885_73846</td>\n",
       "      <td>2479885</td>\n",
       "      <td>73846</td>\n",
       "      <td>3057</td>\n",
       "      <td>2293</td>\n",
       "      <td>2014-08-10</td>\n",
       "      <td>Paul-José Mpoku</td>\n",
       "      <td>BE1</td>\n",
       "      <td>0</td>\n",
       "      <td>0</td>\n",
       "      <td>...</td>\n",
       "      <td>5000000.0</td>\n",
       "      <td>PMK COMPANY</td>\n",
       "      <td>NaN</td>\n",
       "      <td>TR1</td>\n",
       "      <td>Paul-José</td>\n",
       "      <td>Mpoku</td>\n",
       "      <td>paul-jose-mpoku</td>\n",
       "      <td>https://img.a.transfermarkt.technology/portrai...</td>\n",
       "      <td>2021</td>\n",
       "      <td>https://www.transfermarkt.co.uk/paul-jose-mpok...</td>\n",
       "    </tr>\n",
       "    <tr>\n",
       "      <th>4</th>\n",
       "      <td>2486389_73846</td>\n",
       "      <td>2486389</td>\n",
       "      <td>73846</td>\n",
       "      <td>3057</td>\n",
       "      <td>2293</td>\n",
       "      <td>2014-08-15</td>\n",
       "      <td>Paul-José Mpoku</td>\n",
       "      <td>BE1</td>\n",
       "      <td>0</td>\n",
       "      <td>0</td>\n",
       "      <td>...</td>\n",
       "      <td>5000000.0</td>\n",
       "      <td>PMK COMPANY</td>\n",
       "      <td>NaN</td>\n",
       "      <td>TR1</td>\n",
       "      <td>Paul-José</td>\n",
       "      <td>Mpoku</td>\n",
       "      <td>paul-jose-mpoku</td>\n",
       "      <td>https://img.a.transfermarkt.technology/portrai...</td>\n",
       "      <td>2021</td>\n",
       "      <td>https://www.transfermarkt.co.uk/paul-jose-mpok...</td>\n",
       "    </tr>\n",
       "  </tbody>\n",
       "</table>\n",
       "<p>5 rows × 67 columns</p>\n",
       "</div>"
      ],
      "text/plain": [
       "   appearance_id  game_id  player_id  player_club_id  player_current_club_id  \\\n",
       "0  2479873_73846  2479873      73846            3057                    2293   \n",
       "1  2479873_73846  2479873      73846            3057                    2293   \n",
       "2  2479885_73846  2479885      73846            3057                    2293   \n",
       "3  2479885_73846  2479885      73846            3057                    2293   \n",
       "4  2486389_73846  2486389      73846            3057                    2293   \n",
       "\n",
       "         date      player_name competition_id  yellow_cards  red_cards  ...  \\\n",
       "0  2014-08-02  Paul-José Mpoku            BE1             1          0  ...   \n",
       "1  2014-08-02  Paul-José Mpoku            BE1             1          0  ...   \n",
       "2  2014-08-10  Paul-José Mpoku            BE1             0          0  ...   \n",
       "3  2014-08-10  Paul-José Mpoku            BE1             0          0  ...   \n",
       "4  2014-08-15  Paul-José Mpoku            BE1             0          0  ...   \n",
       "\n",
       "   highest_market_value_in_eur_y  agent_name_y  contract_expiration_date_y  \\\n",
       "0                      5000000.0   PMK COMPANY                         NaN   \n",
       "1                      5000000.0   PMK COMPANY                         NaN   \n",
       "2                      5000000.0   PMK COMPANY                         NaN   \n",
       "3                      5000000.0   PMK COMPANY                         NaN   \n",
       "4                      5000000.0   PMK COMPANY                         NaN   \n",
       "\n",
       "   current_club_domestic_competition_id_y  first_name_y  last_name_y  \\\n",
       "0                                     TR1     Paul-José        Mpoku   \n",
       "1                                     TR1     Paul-José        Mpoku   \n",
       "2                                     TR1     Paul-José        Mpoku   \n",
       "3                                     TR1     Paul-José        Mpoku   \n",
       "4                                     TR1     Paul-José        Mpoku   \n",
       "\n",
       "     player_code_y                                        image_url_y  \\\n",
       "0  paul-jose-mpoku  https://img.a.transfermarkt.technology/portrai...   \n",
       "1  paul-jose-mpoku  https://img.a.transfermarkt.technology/portrai...   \n",
       "2  paul-jose-mpoku  https://img.a.transfermarkt.technology/portrai...   \n",
       "3  paul-jose-mpoku  https://img.a.transfermarkt.technology/portrai...   \n",
       "4  paul-jose-mpoku  https://img.a.transfermarkt.technology/portrai...   \n",
       "\n",
       "   last_season_y                                              url_y  \n",
       "0           2021  https://www.transfermarkt.co.uk/paul-jose-mpok...  \n",
       "1           2021  https://www.transfermarkt.co.uk/paul-jose-mpok...  \n",
       "2           2021  https://www.transfermarkt.co.uk/paul-jose-mpok...  \n",
       "3           2021  https://www.transfermarkt.co.uk/paul-jose-mpok...  \n",
       "4           2021  https://www.transfermarkt.co.uk/paul-jose-mpok...  \n",
       "\n",
       "[5 rows x 67 columns]"
      ]
     },
     "execution_count": 27,
     "metadata": {},
     "output_type": "execute_result"
    }
   ],
   "source": [
    "\n",
    "players = pd.read_csv('/home/becode/Desktop/5#StoryTelling/data/players.csv')\n",
    "new_table = pd.merge(new_table, players,left_on='player_id', right_on='player_id')\n",
    "new_table.head()\n"
   ]
  },
  {
   "cell_type": "code",
   "execution_count": 9,
   "metadata": {},
   "outputs": [
    {
     "data": {
      "text/plain": [
       "appearance_id                            object\n",
       "game_id                                   int64\n",
       "player_id                                 int64\n",
       "player_club_id                            int64\n",
       "player_current_club_id                    int64\n",
       "date                                     object\n",
       "player_name                              object\n",
       "competition_id                           object\n",
       "yellow_cards                              int64\n",
       "red_cards                                 int64\n",
       "goals                                     int64\n",
       "assists                                   int64\n",
       "minutes_played                            int64\n",
       "club_id                                   int64\n",
       "own_goals                                 int64\n",
       "own_position                              int64\n",
       "own_manager_name                         object\n",
       "opponent_id                               int64\n",
       "opponent_goals                            int64\n",
       "opponent_position                         int64\n",
       "opponent_manager_name                    object\n",
       "hosting                                  object\n",
       "is_win                                    int64\n",
       "name                                     object\n",
       "current_club_id                           int64\n",
       "current_club_name                        object\n",
       "country_of_citizenship                   object\n",
       "country_of_birth                         object\n",
       "city_of_birth                            object\n",
       "date_of_birth                            object\n",
       "position                                 object\n",
       "sub_position                             object\n",
       "foot                                     object\n",
       "height_in_cm                              int64\n",
       "market_value_in_eur                     float64\n",
       "highest_market_value_in_eur             float64\n",
       "agent_name                               object\n",
       "contract_expiration_date                 object\n",
       "current_club_domestic_competition_id     object\n",
       "first_name                               object\n",
       "last_name                                object\n",
       "player_code                              object\n",
       "image_url                                object\n",
       "last_season                               int64\n",
       "url                                      object\n",
       "dtype: object"
      ]
     },
     "execution_count": 9,
     "metadata": {},
     "output_type": "execute_result"
    }
   ],
   "source": [
    "new_table.dtypes"
   ]
  },
  {
   "cell_type": "code",
   "execution_count": 10,
   "metadata": {},
   "outputs": [
    {
     "data": {
      "text/plain": [
       "hosting  yellow_cards  red_cards\n",
       "Away     0             0            55301\n",
       "         1             0             8837\n",
       "         0             1              293\n",
       "         2             0              288\n",
       "         1             1               17\n",
       "Home     0             0            55301\n",
       "         1             0             8837\n",
       "         0             1              293\n",
       "         2             0              288\n",
       "         1             1               17\n",
       "dtype: int64"
      ]
     },
     "execution_count": 10,
     "metadata": {},
     "output_type": "execute_result"
    }
   ],
   "source": [
    "new_table.groupby('hosting')[['yellow_cards','red_cards']].value_counts()"
   ]
  },
  {
   "cell_type": "code",
   "execution_count": 11,
   "metadata": {},
   "outputs": [
    {
     "name": "stdout",
     "output_type": "stream",
     "text": [
      "                       yellow_cards  red_cards\n",
      "player_name                                   \n",
      "Kevin Vandendriessche           106          2\n",
      "Marco Ilaimaharitra             104          4\n",
      "Noë Dussenne                    104          4\n",
      "Damien Marcq                     92          4\n",
      "Kristof D'Haene                  86          4\n",
      "...                             ...        ...\n",
      "Yves Lenaerts                     0          0\n",
      "Zakaria M'Sila                    0          0\n",
      "Zeno Van Den Bosch                0          0\n",
      "Zout                              0          0\n",
      "Élie Youan                        0          0\n",
      "\n",
      "[1794 rows x 2 columns]\n"
     ]
    }
   ],
   "source": [
    "new_calc = new_table.groupby('player_name')[['yellow_cards','red_cards']].sum().sort_values(by=['yellow_cards','red_cards'], ascending=False)\n",
    "print(new_calc)"
   ]
  },
  {
   "cell_type": "code",
   "execution_count": 12,
   "metadata": {},
   "outputs": [
    {
     "data": {
      "text/plain": [
       "34"
      ]
     },
     "execution_count": 12,
     "metadata": {},
     "output_type": "execute_result"
    }
   ],
   "source": [
    "new_table_full = new_table[(new_table['red_cards']>0) & (new_table['yellow_cards']>0)]\n",
    "len(new_table_full)"
   ]
  },
  {
   "cell_type": "code",
   "execution_count": 13,
   "metadata": {},
   "outputs": [
    {
     "data": {
      "text/plain": [
       "yellow_cards  red_cards  player_name         minutes_played\n",
       "1             1          Anton Tanghe        39                2\n",
       "                         Björn Engels        82                2\n",
       "                         Borja López         85                2\n",
       "                         Calvin Stengs       62                2\n",
       "                         Christophe Lepoint  55                2\n",
       "dtype: int64"
      ]
     },
     "execution_count": 13,
     "metadata": {},
     "output_type": "execute_result"
    }
   ],
   "source": [
    "new_table_full.groupby(['yellow_cards','red_cards','player_name']).value_counts(sort=True, ascending=False, subset=['minutes_played']).head()\n"
   ]
  },
  {
   "cell_type": "code",
   "execution_count": 14,
   "metadata": {},
   "outputs": [
    {
     "data": {
      "image/png": "[encoded data removed]",
      "text/plain": [
       "<Figure size 640x480 with 1 Axes>"
      ]
     },
     "metadata": {},
     "output_type": "display_data"
    }
   ],
   "source": [
    "import matplotlib.pyplot as plt\n",
    "\n",
    "plt.scatter(new_table_full['player_name'], new_table_full['red_cards'])\n",
    "plt.show()"
   ]
  },
  {
   "cell_type": "code",
   "execution_count": 15,
   "metadata": {},
   "outputs": [],
   "source": [
    "\n",
    "new_group_away = new_table[new_table['hosting']=='Away']\n",
    "new_group = new_group_away.groupby(['yellow_cards','red_cards']).sum(numeric_only=True).value_counts()\n"
   ]
  },
  {
   "cell_type": "code",
   "execution_count": 16,
   "metadata": {},
   "outputs": [
    {
     "data": {
      "text/plain": [
       "dtype('int64')"
      ]
     },
     "execution_count": 16,
     "metadata": {},
     "output_type": "execute_result"
    }
   ],
   "source": [
    "new_group.dtypes"
   ]
  },
  {
   "cell_type": "code",
   "execution_count": 17,
   "metadata": {},
   "outputs": [
    {
     "data": {
      "text/plain": [
       "MultiIndex([(    55265447,     3736041,     79969,    121878,    1,    0, ...),\n",
       "            (   888505341,    66653829,   1248476,    993680,   25,   23, ...),\n",
       "            (   930048369,    73126677,   1418439,   1143043,    8,   12, ...),\n",
       "            ( 27828655434,  2044489444,  42133745,  32062035,  935,  719, ...),\n",
       "            (174858725672, 13006547697, 241431902, 193306332, 5498, 4155, ...)],\n",
       "           names=['game_id', 'player_id', 'player_club_id', 'player_current_club_id', 'goals', 'assists', 'minutes_played', 'club_id', 'own_goals', 'own_position', 'opponent_id', 'opponent_goals', 'opponent_position', 'is_win', 'current_club_id', 'height_in_cm', 'market_value_in_eur', 'highest_market_value_in_eur', 'last_season'])"
      ]
     },
     "execution_count": 17,
     "metadata": {},
     "output_type": "execute_result"
    }
   ],
   "source": [
    "new_group.droplevel(level=1, axis=0)\n",
    "new_group.keys()"
   ]
  },
  {
   "cell_type": "code",
   "execution_count": 18,
   "metadata": {},
   "outputs": [
    {
     "data": {
      "text/plain": [
       "game_id       player_id    player_club_id  player_current_club_id  goals  assists  minutes_played  club_id    own_goals  own_position  opponent_id  opponent_goals  opponent_position  is_win  current_club_id  height_in_cm  market_value_in_eur  highest_market_value_in_eur  last_season\n",
       "55265447      3736041      79969           121878                  1      0        1174            54910      22         153           109815       27              138                4       121878           3134          2.302500e+07         7.220000e+07                 34351          1\n",
       "888505341     66653829     1248476         993680                  25     23       19818           1224686    370        2647          1264884      481             2448               87      993680           52425         6.383250e+08         1.318450e+09                 581884         1\n",
       "930048369     73126677     1418439         1143043                 8      12       14141           1246354    401        2625          1427219      487             2723               93      1143043          53252         5.898500e+08         1.184550e+09                 592000         1\n",
       "27828655434   2044489444   42133745        32062035                935    719      698279          38772359   11586      78407         40139968     13605           78109              2868    32062035         1599646       1.729448e+10         3.642238e+10                 17855114       1\n",
       "174858725672  13006547697  241431902       193306332               5498   4155     3814349         245201746  71614      498694        243995707    88809           485056             17284   193306332        9974258       1.189380e+11         2.395485e+11                 111738071      1\n",
       "dtype: int64"
      ]
     },
     "execution_count": 18,
     "metadata": {},
     "output_type": "execute_result"
    }
   ],
   "source": [
    "new_group"
   ]
  },
  {
   "cell_type": "code",
   "execution_count": 19,
   "metadata": {},
   "outputs": [],
   "source": [
    "\n",
    "new_group_home = new_table[new_table['hosting']=='Home']\n",
    "new_group = new_group_home.groupby(['yellow_cards','red_cards']).sum(numeric_only=True).value_counts()\n"
   ]
  },
  {
   "cell_type": "code",
   "execution_count": 20,
   "metadata": {},
   "outputs": [
    {
     "data": {
      "text/plain": [
       "game_id       player_id    player_club_id  player_current_club_id  goals  assists  minutes_played  club_id    own_goals  own_position  opponent_id  opponent_goals  opponent_position  is_win  current_club_id  height_in_cm  market_value_in_eur  highest_market_value_in_eur  last_season\n",
       "110530894     7472082      159938          243756                  2      0        2348            164725     49         291           164725       49              291                11      243756           6268          4.605000e+07         1.444000e+08                 68702          1\n",
       "1777010682    133307658    2496952         1987360                 50     46       39636           2489570    851        5095          2489570      851             5095               226     1987360          104850        1.276650e+09         2.636900e+09                 1163768        1\n",
       "1860096738    146253354    2836878         2286086                 16     24       28282           2673573    888        5348          2673573      888             5348               224     2286086          106504        1.179700e+09         2.369100e+09                 1184000        1\n",
       "55657310868   4088978888   84267490        64124070                1870   1438     1396558         78912327   25191      156516        78912327     25191           156516             6628    64124070         3199292       3.458897e+10         7.284477e+10                 35710228       1\n",
       "349717451344  26013095394  482863804       386612664               10996  8310     7628698         489197453  160423     983750        489197453    160423          983750             42321   386612664        19948516      2.378759e+11         4.790970e+11                 223476142      1\n",
       "dtype: int64"
      ]
     },
     "execution_count": 20,
     "metadata": {},
     "output_type": "execute_result"
    }
   ],
   "source": [
    "new_group = new_table.groupby(['yellow_cards','red_cards'])\n",
    "new_group.sum(numeric_only=True).value_counts()"
   ]
  },
  {
   "cell_type": "code",
   "execution_count": null,
   "metadata": {},
   "outputs": [],
   "source": []
  },
  {
   "cell_type": "code",
   "execution_count": 25,
   "metadata": {},
   "outputs": [
    {
     "data": {
      "text/plain": [
       "game_id       player_id      player_club_id  player_current_club_id  goals     assists   minutes_played  club_id      own_goals  own_position  opponent_id  opponent_goals  opponent_position  is_win    current_club_id  height_in_cm  market_value_in_eur  highest_market_value_in_eur  last_season\n",
       "3.085088e+06  231436.906250  4334.986111     3450.277778             0.086806  0.079861  68.812500       4322.170139  1.477431   8.845486      4322.170139  1.477431        8.845486           0.392361  3450.277778      182.031250    2.648651e+06         4.577951e+06                 2020.430556    1\n",
       "3.149107e+06  231355.600769  4767.878805     3628.158312             0.105805  0.081362  79.017653       4464.882143  1.425314   8.855720      4464.882143  1.425314        8.855720           0.375014  3628.158312      181.016861    2.308702e+06         4.122044e+06                 2020.494964    1\n",
       "3.161945e+06  235195.524439  4365.778232     3495.530497             0.099420  0.075134  68.974322       4423.043462  1.450453   8.894505      4423.043462  1.450453        8.894505           0.382642  3495.530497      180.363068    2.498907e+06         4.331799e+06                 2020.543408    1\n",
       "3.174227e+06  249579.102389  4841.088737     3901.170648             0.027304  0.040956  48.262799       4562.411263  1.515358   9.126280      4562.411263  1.515358        9.126280           0.382253  3901.170648      181.747440    2.331423e+06         4.042833e+06                 2020.477816    1\n",
       "3.250909e+06  219767.117647  4704.058824     7169.294118             0.058824  0.000000  69.058824       4844.852941  1.441176   8.558824      4844.852941  1.441176        8.558824           0.323529  7169.294118      184.352941    1.439062e+06         4.247059e+06                 2020.647059    1\n",
       "dtype: int64"
      ]
     },
     "execution_count": 25,
     "metadata": {},
     "output_type": "execute_result"
    }
   ],
   "source": [
    "new_group.mean(numeric_only=True).value_counts()"
   ]
  },
  {
   "cell_type": "code",
   "execution_count": 22,
   "metadata": {},
   "outputs": [
    {
     "data": {
      "text/plain": [
       "64736"
      ]
     },
     "execution_count": 22,
     "metadata": {},
     "output_type": "execute_result"
    }
   ],
   "source": [
    "new_table_players = new_table[new_table['hosting']=='Home']\n",
    "len(new_table_players)"
   ]
  },
  {
   "cell_type": "code",
   "execution_count": 23,
   "metadata": {},
   "outputs": [
    {
     "data": {
      "text/plain": [
       "64736"
      ]
     },
     "execution_count": 23,
     "metadata": {},
     "output_type": "execute_result"
    }
   ],
   "source": [
    "new_table_players_away = new_table[new_table['hosting']=='Away']\n",
    "len(new_table_players_away)"
   ]
  },
  {
   "cell_type": "code",
   "execution_count": 26,
   "metadata": {},
   "outputs": [
    {
     "data": {
      "image/png": "[encoded data removed]",
      "text/plain": [
       "<Figure size 640x480 with 1 Axes>"
      ]
     },
     "metadata": {},
     "output_type": "display_data"
    }
   ],
   "source": [
    "import matplotlib.pyplot as plt\n",
    "plt.pie(new_group.mean(numeric_only=True).value_counts(normalize=True))\n",
    "\n",
    "plt.show()"
   ]
  }
 ],
 "metadata": {
  "kernelspec": {
   "display_name": "Python 3",
   "language": "python",
   "name": "python3"
  },
  "language_info": {
   "codemirror_mode": {
    "name": "ipython",
    "version": 3
   },
   "file_extension": ".py",
   "mimetype": "text/x-python",
   "name": "python",
   "nbconvert_exporter": "python",
   "pygments_lexer": "ipython3",
   "version": "3.8.10"
  },
  "orig_nbformat": 4
 },
 "nbformat": 4,
 "nbformat_minor": 2
}
