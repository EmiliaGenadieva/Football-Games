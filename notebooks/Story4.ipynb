{
 "cells": [
  {
   "cell_type": "code",
   "execution_count": 11,
   "metadata": {},
   "outputs": [],
   "source": [
    "import pandas as pd\n",
    "club_games = pd.read_csv('/home/becode/Desktop/5#StoryTelling/data/club_games.csv')\n"
   ]
  },
  {
   "cell_type": "code",
   "execution_count": 12,
   "metadata": {},
   "outputs": [],
   "source": [
    "club_games_chunck = club_games[['club_id','game_id', 'hosting', 'is_win']]"
   ]
  },
  {
   "cell_type": "code",
   "execution_count": 13,
   "metadata": {},
   "outputs": [],
   "source": [
    "appearance = pd.read_csv('/home/becode/Desktop/5#StoryTelling/data/appearances.csv')\n"
   ]
  },
  {
   "cell_type": "code",
   "execution_count": 14,
   "metadata": {},
   "outputs": [],
   "source": [
    "appearance_chunk = appearance[['game_id', 'player_id', 'red_cards', 'yellow_cards', 'competition_id']]"
   ]
  },
  {
   "cell_type": "code",
   "execution_count": 19,
   "metadata": {},
   "outputs": [
    {
     "data": {
      "text/plain": [
       "172744"
      ]
     },
     "execution_count": 19,
     "metadata": {},
     "output_type": "execute_result"
    }
   ],
   "source": [
    "merge_players = (appearance_chunk['red_cards']>0) | (appearance_chunk['yellow_cards']>0)|(appearance_chunk['yellow_cards']>1)\n",
    "merge_tables_players = appearance_chunk[merge_players]\n",
    "len(merge_tables_players)"
   ]
  },
  {
   "cell_type": "code",
   "execution_count": null,
   "metadata": {},
   "outputs": [],
   "source": []
  },
  {
   "cell_type": "code",
   "execution_count": null,
   "metadata": {},
   "outputs": [],
   "source": [
    "#merge_tables_players = "
   ]
  },
  {
   "cell_type": "code",
   "execution_count": 20,
   "metadata": {},
   "outputs": [],
   "source": [
    "new_table = appearance_chunk[appearance_chunk['competition_id']=='BE1']"
   ]
  },
  {
   "cell_type": "code",
   "execution_count": 21,
   "metadata": {},
   "outputs": [],
   "source": [
    "merge_tables = pd.merge(new_table, club_games,on='game_id')"
   ]
  },
  {
   "cell_type": "code",
   "execution_count": 24,
   "metadata": {},
   "outputs": [
    {
     "data": {
      "text/html": [
       "<div>\n",
       "<style scoped>\n",
       "    .dataframe tbody tr th:only-of-type {\n",
       "        vertical-align: middle;\n",
       "    }\n",
       "\n",
       "    .dataframe tbody tr th {\n",
       "        vertical-align: top;\n",
       "    }\n",
       "\n",
       "    .dataframe thead th {\n",
       "        text-align: right;\n",
       "    }\n",
       "</style>\n",
       "<table border=\"1\" class=\"dataframe\">\n",
       "  <thead>\n",
       "    <tr style=\"text-align: right;\">\n",
       "      <th></th>\n",
       "      <th>game_id</th>\n",
       "      <th>player_id</th>\n",
       "      <th>red_cards</th>\n",
       "      <th>yellow_cards</th>\n",
       "      <th>competition_id</th>\n",
       "      <th>club_id</th>\n",
       "      <th>own_goals</th>\n",
       "      <th>own_position</th>\n",
       "      <th>own_manager_name</th>\n",
       "      <th>opponent_id</th>\n",
       "      <th>opponent_goals</th>\n",
       "      <th>opponent_position</th>\n",
       "      <th>opponent_manager_name</th>\n",
       "      <th>hosting</th>\n",
       "      <th>is_win</th>\n",
       "    </tr>\n",
       "  </thead>\n",
       "  <tbody>\n",
       "    <tr>\n",
       "      <th>75162</th>\n",
       "      <td>3237924</td>\n",
       "      <td>381967</td>\n",
       "      <td>0</td>\n",
       "      <td>2</td>\n",
       "      <td>BE1</td>\n",
       "      <td>58</td>\n",
       "      <td>1</td>\n",
       "      <td>13</td>\n",
       "      <td>Vincent Kompany</td>\n",
       "      <td>1096</td>\n",
       "      <td>2</td>\n",
       "      <td>2</td>\n",
       "      <td>László Bölöni</td>\n",
       "      <td>Home</td>\n",
       "      <td>0</td>\n",
       "    </tr>\n",
       "    <tr>\n",
       "      <th>115770</th>\n",
       "      <td>3851239</td>\n",
       "      <td>522791</td>\n",
       "      <td>0</td>\n",
       "      <td>2</td>\n",
       "      <td>BE1</td>\n",
       "      <td>2727</td>\n",
       "      <td>5</td>\n",
       "      <td>8</td>\n",
       "      <td>Marc Brys</td>\n",
       "      <td>2715</td>\n",
       "      <td>0</td>\n",
       "      <td>18</td>\n",
       "      <td>Jean-Sébastien Legros</td>\n",
       "      <td>Home</td>\n",
       "      <td>1</td>\n",
       "    </tr>\n",
       "    <tr>\n",
       "      <th>115771</th>\n",
       "      <td>3851239</td>\n",
       "      <td>522791</td>\n",
       "      <td>0</td>\n",
       "      <td>2</td>\n",
       "      <td>BE1</td>\n",
       "      <td>2715</td>\n",
       "      <td>0</td>\n",
       "      <td>18</td>\n",
       "      <td>Jean-Sébastien Legros</td>\n",
       "      <td>2727</td>\n",
       "      <td>5</td>\n",
       "      <td>8</td>\n",
       "      <td>Marc Brys</td>\n",
       "      <td>Away</td>\n",
       "      <td>0</td>\n",
       "    </tr>\n",
       "    <tr>\n",
       "      <th>115739</th>\n",
       "      <td>3851194</td>\n",
       "      <td>666953</td>\n",
       "      <td>0</td>\n",
       "      <td>2</td>\n",
       "      <td>BE1</td>\n",
       "      <td>475</td>\n",
       "      <td>2</td>\n",
       "      <td>8</td>\n",
       "      <td>Bernd Hollerbach</td>\n",
       "      <td>2715</td>\n",
       "      <td>1</td>\n",
       "      <td>18</td>\n",
       "      <td>Jean-Sébastien Legros</td>\n",
       "      <td>Away</td>\n",
       "      <td>1</td>\n",
       "    </tr>\n",
       "    <tr>\n",
       "      <th>86746</th>\n",
       "      <td>3415259</td>\n",
       "      <td>377219</td>\n",
       "      <td>0</td>\n",
       "      <td>2</td>\n",
       "      <td>BE1</td>\n",
       "      <td>3057</td>\n",
       "      <td>0</td>\n",
       "      <td>3</td>\n",
       "      <td>Philippe Montanier</td>\n",
       "      <td>1184</td>\n",
       "      <td>0</td>\n",
       "      <td>6</td>\n",
       "      <td>Hannes Wolf</td>\n",
       "      <td>Home</td>\n",
       "      <td>0</td>\n",
       "    </tr>\n",
       "  </tbody>\n",
       "</table>\n",
       "</div>"
      ],
      "text/plain": [
       "        game_id  player_id  red_cards  yellow_cards competition_id  club_id  \\\n",
       "75162   3237924     381967          0             2            BE1       58   \n",
       "115770  3851239     522791          0             2            BE1     2727   \n",
       "115771  3851239     522791          0             2            BE1     2715   \n",
       "115739  3851194     666953          0             2            BE1      475   \n",
       "86746   3415259     377219          0             2            BE1     3057   \n",
       "\n",
       "        own_goals  own_position       own_manager_name  opponent_id  \\\n",
       "75162           1            13        Vincent Kompany         1096   \n",
       "115770          5             8              Marc Brys         2715   \n",
       "115771          0            18  Jean-Sébastien Legros         2727   \n",
       "115739          2             8       Bernd Hollerbach         2715   \n",
       "86746           0             3     Philippe Montanier         1184   \n",
       "\n",
       "        opponent_goals  opponent_position  opponent_manager_name hosting  \\\n",
       "75162                2                  2          László Bölöni    Home   \n",
       "115770               0                 18  Jean-Sébastien Legros    Home   \n",
       "115771               5                  8              Marc Brys    Away   \n",
       "115739               1                 18  Jean-Sébastien Legros    Away   \n",
       "86746                0                  6            Hannes Wolf    Home   \n",
       "\n",
       "        is_win  \n",
       "75162        0  \n",
       "115770       1  \n",
       "115771       0  \n",
       "115739       1  \n",
       "86746        0  "
      ]
     },
     "execution_count": 24,
     "metadata": {},
     "output_type": "execute_result"
    }
   ],
   "source": [
    "merge_tables.sort_values(by='yellow_cards').tail()"
   ]
  },
  {
   "cell_type": "code",
   "execution_count": 41,
   "metadata": {},
   "outputs": [
    {
     "name": "stdout",
     "output_type": "stream",
     "text": [
      "[]\n"
     ]
    }
   ],
   "source": [
    "\n",
    "players = pd.read_csv('/home/becode/Desktop/5#StoryTelling/data/players.csv')\n",
    "fr = merge_tables_players[merge_tables_players['name'] == 'Thibault Peyre']['image_url'].drop_duplicates()\n",
    "print(fr.values)"
   ]
  },
  {
   "cell_type": "code",
   "execution_count": 25,
   "metadata": {},
   "outputs": [
    {
     "data": {
      "text/html": [
       "<div>\n",
       "<style scoped>\n",
       "    .dataframe tbody tr th:only-of-type {\n",
       "        vertical-align: middle;\n",
       "    }\n",
       "\n",
       "    .dataframe tbody tr th {\n",
       "        vertical-align: top;\n",
       "    }\n",
       "\n",
       "    .dataframe thead th {\n",
       "        text-align: right;\n",
       "    }\n",
       "</style>\n",
       "<table border=\"1\" class=\"dataframe\">\n",
       "  <thead>\n",
       "    <tr style=\"text-align: right;\">\n",
       "      <th></th>\n",
       "      <th>game_id</th>\n",
       "      <th>player_id</th>\n",
       "      <th>red_cards</th>\n",
       "      <th>yellow_cards</th>\n",
       "      <th>competition_id</th>\n",
       "      <th>club_id</th>\n",
       "      <th>own_goals</th>\n",
       "      <th>own_position</th>\n",
       "      <th>own_manager_name</th>\n",
       "      <th>opponent_id</th>\n",
       "      <th>opponent_goals</th>\n",
       "      <th>opponent_position</th>\n",
       "      <th>opponent_manager_name</th>\n",
       "      <th>hosting</th>\n",
       "      <th>is_win</th>\n",
       "      <th>current_club_id</th>\n",
       "      <th>image_url</th>\n",
       "      <th>name</th>\n",
       "    </tr>\n",
       "  </thead>\n",
       "  <tbody>\n",
       "    <tr>\n",
       "      <th>0</th>\n",
       "      <td>2479873</td>\n",
       "      <td>73846</td>\n",
       "      <td>0</td>\n",
       "      <td>1</td>\n",
       "      <td>BE1</td>\n",
       "      <td>601</td>\n",
       "      <td>2</td>\n",
       "      <td>13</td>\n",
       "      <td>Yves Vanderhaeghe</td>\n",
       "      <td>3057</td>\n",
       "      <td>3</td>\n",
       "      <td>1</td>\n",
       "      <td>Guy Luzon</td>\n",
       "      <td>Home</td>\n",
       "      <td>0</td>\n",
       "      <td>2293</td>\n",
       "      <td>https://img.a.transfermarkt.technology/portrai...</td>\n",
       "      <td>Paul-José Mpoku</td>\n",
       "    </tr>\n",
       "    <tr>\n",
       "      <th>1</th>\n",
       "      <td>2479873</td>\n",
       "      <td>73846</td>\n",
       "      <td>0</td>\n",
       "      <td>1</td>\n",
       "      <td>BE1</td>\n",
       "      <td>3057</td>\n",
       "      <td>3</td>\n",
       "      <td>1</td>\n",
       "      <td>Guy Luzon</td>\n",
       "      <td>601</td>\n",
       "      <td>2</td>\n",
       "      <td>13</td>\n",
       "      <td>Yves Vanderhaeghe</td>\n",
       "      <td>Away</td>\n",
       "      <td>1</td>\n",
       "      <td>2293</td>\n",
       "      <td>https://img.a.transfermarkt.technology/portrai...</td>\n",
       "      <td>Paul-José Mpoku</td>\n",
       "    </tr>\n",
       "    <tr>\n",
       "      <th>2</th>\n",
       "      <td>2479885</td>\n",
       "      <td>73846</td>\n",
       "      <td>0</td>\n",
       "      <td>0</td>\n",
       "      <td>BE1</td>\n",
       "      <td>3057</td>\n",
       "      <td>0</td>\n",
       "      <td>5</td>\n",
       "      <td>Guy Luzon</td>\n",
       "      <td>157</td>\n",
       "      <td>1</td>\n",
       "      <td>2</td>\n",
       "      <td>Hein Vanhaezebrouck</td>\n",
       "      <td>Home</td>\n",
       "      <td>0</td>\n",
       "      <td>2293</td>\n",
       "      <td>https://img.a.transfermarkt.technology/portrai...</td>\n",
       "      <td>Paul-José Mpoku</td>\n",
       "    </tr>\n",
       "    <tr>\n",
       "      <th>3</th>\n",
       "      <td>2479885</td>\n",
       "      <td>73846</td>\n",
       "      <td>0</td>\n",
       "      <td>0</td>\n",
       "      <td>BE1</td>\n",
       "      <td>157</td>\n",
       "      <td>1</td>\n",
       "      <td>2</td>\n",
       "      <td>Hein Vanhaezebrouck</td>\n",
       "      <td>3057</td>\n",
       "      <td>0</td>\n",
       "      <td>5</td>\n",
       "      <td>Guy Luzon</td>\n",
       "      <td>Away</td>\n",
       "      <td>1</td>\n",
       "      <td>2293</td>\n",
       "      <td>https://img.a.transfermarkt.technology/portrai...</td>\n",
       "      <td>Paul-José Mpoku</td>\n",
       "    </tr>\n",
       "    <tr>\n",
       "      <th>4</th>\n",
       "      <td>2486389</td>\n",
       "      <td>73846</td>\n",
       "      <td>0</td>\n",
       "      <td>0</td>\n",
       "      <td>BE1</td>\n",
       "      <td>29228</td>\n",
       "      <td>5</td>\n",
       "      <td>5</td>\n",
       "      <td>Rachid Chihab</td>\n",
       "      <td>3057</td>\n",
       "      <td>2</td>\n",
       "      <td>7</td>\n",
       "      <td>Guy Luzon</td>\n",
       "      <td>Home</td>\n",
       "      <td>1</td>\n",
       "      <td>2293</td>\n",
       "      <td>https://img.a.transfermarkt.technology/portrai...</td>\n",
       "      <td>Paul-José Mpoku</td>\n",
       "    </tr>\n",
       "    <tr>\n",
       "      <th>...</th>\n",
       "      <td>...</td>\n",
       "      <td>...</td>\n",
       "      <td>...</td>\n",
       "      <td>...</td>\n",
       "      <td>...</td>\n",
       "      <td>...</td>\n",
       "      <td>...</td>\n",
       "      <td>...</td>\n",
       "      <td>...</td>\n",
       "      <td>...</td>\n",
       "      <td>...</td>\n",
       "      <td>...</td>\n",
       "      <td>...</td>\n",
       "      <td>...</td>\n",
       "      <td>...</td>\n",
       "      <td>...</td>\n",
       "      <td>...</td>\n",
       "      <td>...</td>\n",
       "    </tr>\n",
       "    <tr>\n",
       "      <th>129467</th>\n",
       "      <td>3851214</td>\n",
       "      <td>565016</td>\n",
       "      <td>0</td>\n",
       "      <td>0</td>\n",
       "      <td>BE1</td>\n",
       "      <td>3057</td>\n",
       "      <td>4</td>\n",
       "      <td>6</td>\n",
       "      <td>Ronny Deila</td>\n",
       "      <td>3948</td>\n",
       "      <td>2</td>\n",
       "      <td>2</td>\n",
       "      <td>Karel Geraerts</td>\n",
       "      <td>Away</td>\n",
       "      <td>1</td>\n",
       "      <td>3057</td>\n",
       "      <td>https://img.a.transfermarkt.technology/portrai...</td>\n",
       "      <td>Ibe Hautekiet</td>\n",
       "    </tr>\n",
       "    <tr>\n",
       "      <th>129468</th>\n",
       "      <td>3851299</td>\n",
       "      <td>429931</td>\n",
       "      <td>0</td>\n",
       "      <td>0</td>\n",
       "      <td>BE1</td>\n",
       "      <td>2282</td>\n",
       "      <td>2</td>\n",
       "      <td>4</td>\n",
       "      <td>Scott Parker</td>\n",
       "      <td>157</td>\n",
       "      <td>0</td>\n",
       "      <td>5</td>\n",
       "      <td>Hein Vanhaezebrouck</td>\n",
       "      <td>Home</td>\n",
       "      <td>1</td>\n",
       "      <td>157</td>\n",
       "      <td>https://img.a.transfermarkt.technology/portrai...</td>\n",
       "      <td>Cederick Van Daele</td>\n",
       "    </tr>\n",
       "    <tr>\n",
       "      <th>129469</th>\n",
       "      <td>3851299</td>\n",
       "      <td>429931</td>\n",
       "      <td>0</td>\n",
       "      <td>0</td>\n",
       "      <td>BE1</td>\n",
       "      <td>157</td>\n",
       "      <td>0</td>\n",
       "      <td>5</td>\n",
       "      <td>Hein Vanhaezebrouck</td>\n",
       "      <td>2282</td>\n",
       "      <td>2</td>\n",
       "      <td>4</td>\n",
       "      <td>Scott Parker</td>\n",
       "      <td>Away</td>\n",
       "      <td>0</td>\n",
       "      <td>157</td>\n",
       "      <td>https://img.a.transfermarkt.technology/portrai...</td>\n",
       "      <td>Cederick Van Daele</td>\n",
       "    </tr>\n",
       "    <tr>\n",
       "      <th>129470</th>\n",
       "      <td>3851119</td>\n",
       "      <td>283580</td>\n",
       "      <td>0</td>\n",
       "      <td>0</td>\n",
       "      <td>BE1</td>\n",
       "      <td>3057</td>\n",
       "      <td>2</td>\n",
       "      <td>6</td>\n",
       "      <td>Ronny Deila</td>\n",
       "      <td>968</td>\n",
       "      <td>0</td>\n",
       "      <td>7</td>\n",
       "      <td>Jonas De Roeck</td>\n",
       "      <td>Home</td>\n",
       "      <td>1</td>\n",
       "      <td>968</td>\n",
       "      <td>https://img.a.transfermarkt.technology/portrai...</td>\n",
       "      <td>Nick Gillekens</td>\n",
       "    </tr>\n",
       "    <tr>\n",
       "      <th>129471</th>\n",
       "      <td>3851119</td>\n",
       "      <td>283580</td>\n",
       "      <td>0</td>\n",
       "      <td>0</td>\n",
       "      <td>BE1</td>\n",
       "      <td>968</td>\n",
       "      <td>0</td>\n",
       "      <td>7</td>\n",
       "      <td>Jonas De Roeck</td>\n",
       "      <td>3057</td>\n",
       "      <td>2</td>\n",
       "      <td>6</td>\n",
       "      <td>Ronny Deila</td>\n",
       "      <td>Away</td>\n",
       "      <td>0</td>\n",
       "      <td>968</td>\n",
       "      <td>https://img.a.transfermarkt.technology/portrai...</td>\n",
       "      <td>Nick Gillekens</td>\n",
       "    </tr>\n",
       "  </tbody>\n",
       "</table>\n",
       "<p>129472 rows × 18 columns</p>\n",
       "</div>"
      ],
      "text/plain": [
       "        game_id  player_id  red_cards  yellow_cards competition_id  club_id  \\\n",
       "0       2479873      73846          0             1            BE1      601   \n",
       "1       2479873      73846          0             1            BE1     3057   \n",
       "2       2479885      73846          0             0            BE1     3057   \n",
       "3       2479885      73846          0             0            BE1      157   \n",
       "4       2486389      73846          0             0            BE1    29228   \n",
       "...         ...        ...        ...           ...            ...      ...   \n",
       "129467  3851214     565016          0             0            BE1     3057   \n",
       "129468  3851299     429931          0             0            BE1     2282   \n",
       "129469  3851299     429931          0             0            BE1      157   \n",
       "129470  3851119     283580          0             0            BE1     3057   \n",
       "129471  3851119     283580          0             0            BE1      968   \n",
       "\n",
       "        own_goals  own_position     own_manager_name  opponent_id  \\\n",
       "0               2            13    Yves Vanderhaeghe         3057   \n",
       "1               3             1            Guy Luzon          601   \n",
       "2               0             5            Guy Luzon          157   \n",
       "3               1             2  Hein Vanhaezebrouck         3057   \n",
       "4               5             5        Rachid Chihab         3057   \n",
       "...           ...           ...                  ...          ...   \n",
       "129467          4             6          Ronny Deila         3948   \n",
       "129468          2             4         Scott Parker          157   \n",
       "129469          0             5  Hein Vanhaezebrouck         2282   \n",
       "129470          2             6          Ronny Deila          968   \n",
       "129471          0             7       Jonas De Roeck         3057   \n",
       "\n",
       "        opponent_goals  opponent_position opponent_manager_name hosting  \\\n",
       "0                    3                  1             Guy Luzon    Home   \n",
       "1                    2                 13     Yves Vanderhaeghe    Away   \n",
       "2                    1                  2   Hein Vanhaezebrouck    Home   \n",
       "3                    0                  5             Guy Luzon    Away   \n",
       "4                    2                  7             Guy Luzon    Home   \n",
       "...                ...                ...                   ...     ...   \n",
       "129467               2                  2        Karel Geraerts    Away   \n",
       "129468               0                  5   Hein Vanhaezebrouck    Home   \n",
       "129469               2                  4          Scott Parker    Away   \n",
       "129470               0                  7        Jonas De Roeck    Home   \n",
       "129471               2                  6           Ronny Deila    Away   \n",
       "\n",
       "        is_win  current_club_id  \\\n",
       "0            0             2293   \n",
       "1            1             2293   \n",
       "2            0             2293   \n",
       "3            1             2293   \n",
       "4            1             2293   \n",
       "...        ...              ...   \n",
       "129467       1             3057   \n",
       "129468       1              157   \n",
       "129469       0              157   \n",
       "129470       1              968   \n",
       "129471       0              968   \n",
       "\n",
       "                                                image_url                name  \n",
       "0       https://img.a.transfermarkt.technology/portrai...     Paul-José Mpoku  \n",
       "1       https://img.a.transfermarkt.technology/portrai...     Paul-José Mpoku  \n",
       "2       https://img.a.transfermarkt.technology/portrai...     Paul-José Mpoku  \n",
       "3       https://img.a.transfermarkt.technology/portrai...     Paul-José Mpoku  \n",
       "4       https://img.a.transfermarkt.technology/portrai...     Paul-José Mpoku  \n",
       "...                                                   ...                 ...  \n",
       "129467  https://img.a.transfermarkt.technology/portrai...       Ibe Hautekiet  \n",
       "129468  https://img.a.transfermarkt.technology/portrai...  Cederick Van Daele  \n",
       "129469  https://img.a.transfermarkt.technology/portrai...  Cederick Van Daele  \n",
       "129470  https://img.a.transfermarkt.technology/portrai...      Nick Gillekens  \n",
       "129471  https://img.a.transfermarkt.technology/portrai...      Nick Gillekens  \n",
       "\n",
       "[129472 rows x 18 columns]"
      ]
     },
     "execution_count": 25,
     "metadata": {},
     "output_type": "execute_result"
    }
   ],
   "source": [
    "players = pd.read_csv('/home/becode/Desktop/5#StoryTelling/data/players.csv')\n",
    "players = players[['player_id','current_club_id', 'image_url', 'name']]\n",
    "merge_tables_players = pd.merge(merge_tables, players, on='player_id')\n",
    "merge_tables_players"
   ]
  },
  {
   "cell_type": "code",
   "execution_count": 32,
   "metadata": {},
   "outputs": [
    {
     "data": {
      "text/plain": [
       "Nick Gillekens             2\n",
       "Laurens Symons             2\n",
       "Paul Gladon                2\n",
       "Clément Libertiaux         2\n",
       "Souleymane Aw              2\n",
       "                        ... \n",
       "Siebe Schrijvers         432\n",
       "Ruud Vormer              440\n",
       "Kevin Vandendriessche    446\n",
       "Mats Rits                450\n",
       "Hans Vanaken             534\n",
       "Name: name, Length: 1794, dtype: int64"
      ]
     },
     "execution_count": 32,
     "metadata": {},
     "output_type": "execute_result"
    }
   ],
   "source": [
    "merge_tables_players['name'].value_counts()"
   ]
  },
  {
   "cell_type": "code",
   "execution_count": 39,
   "metadata": {},
   "outputs": [
    {
     "name": "stdout",
     "output_type": "stream",
     "text": [
      "['https://img.a.transfermarkt.technology/portrait/header/340177-1602856980.png?lm=1']\n"
     ]
    }
   ],
   "source": [
    "fr = merge_tables_players[merge_tables_players['name'] == 'Thibault De Smet']['image_url'].drop_duplicates()\n",
    "print(fr.values)"
   ]
  },
  {
   "cell_type": "code",
   "execution_count": 38,
   "metadata": {},
   "outputs": [
    {
     "name": "stdout",
     "output_type": "stream",
     "text": [
      "['https://img.a.transfermarkt.technology/portrait/header/260829-1642257591.jpg?lm=1']\n"
     ]
    }
   ],
   "source": [
    "fr = merge_tables_players[merge_tables_players['name'] == 'Jonas Bager']['image_url'].drop_duplicates()\n",
    "print(fr.values)\n",
    "\n"
   ]
  },
  {
   "cell_type": "code",
   "execution_count": 29,
   "metadata": {},
   "outputs": [
    {
     "data": {
      "text/html": [
       "<div>\n",
       "<style scoped>\n",
       "    .dataframe tbody tr th:only-of-type {\n",
       "        vertical-align: middle;\n",
       "    }\n",
       "\n",
       "    .dataframe tbody tr th {\n",
       "        vertical-align: top;\n",
       "    }\n",
       "\n",
       "    .dataframe thead th {\n",
       "        text-align: right;\n",
       "    }\n",
       "</style>\n",
       "<table border=\"1\" class=\"dataframe\">\n",
       "  <thead>\n",
       "    <tr style=\"text-align: right;\">\n",
       "      <th></th>\n",
       "      <th>game_id</th>\n",
       "      <th>player_id</th>\n",
       "      <th>red_cards</th>\n",
       "      <th>yellow_cards</th>\n",
       "      <th>competition_id</th>\n",
       "      <th>club_id</th>\n",
       "      <th>own_goals</th>\n",
       "      <th>own_position</th>\n",
       "      <th>own_manager_name</th>\n",
       "      <th>opponent_id</th>\n",
       "      <th>opponent_goals</th>\n",
       "      <th>opponent_position</th>\n",
       "      <th>opponent_manager_name</th>\n",
       "      <th>hosting</th>\n",
       "      <th>is_win</th>\n",
       "      <th>current_club_id</th>\n",
       "      <th>image_url</th>\n",
       "      <th>name</th>\n",
       "    </tr>\n",
       "  </thead>\n",
       "  <tbody>\n",
       "  </tbody>\n",
       "</table>\n",
       "</div>"
      ],
      "text/plain": [
       "Empty DataFrame\n",
       "Columns: [game_id, player_id, red_cards, yellow_cards, competition_id, club_id, own_goals, own_position, own_manager_name, opponent_id, opponent_goals, opponent_position, opponent_manager_name, hosting, is_win, current_club_id, image_url, name]\n",
       "Index: []"
      ]
     },
     "execution_count": 29,
     "metadata": {},
     "output_type": "execute_result"
    }
   ],
   "source": [
    "merge_tables_players[merge_tables_players['name'] == 'Thibault Peyre']"
   ]
  },
  {
   "cell_type": "code",
   "execution_count": null,
   "metadata": {},
   "outputs": [],
   "source": [
    "merge_tables_players.sort_values(by='sum_cards', ascending=False)"
   ]
  },
  {
   "cell_type": "code",
   "execution_count": null,
   "metadata": {},
   "outputs": [],
   "source": [
    "new_table = pd.merge(new_table, merge_tables,on='game_id', right_on='game_id')\n",
    "len(new_table)"
   ]
  },
  {
   "cell_type": "code",
   "execution_count": null,
   "metadata": {},
   "outputs": [],
   "source": [
    "new_table_test = pd.concat(new_table, club_games,left_on='game_id', right_on='game_id')\n",
    "len(new_table)"
   ]
  },
  {
   "cell_type": "code",
   "execution_count": null,
   "metadata": {},
   "outputs": [],
   "source": [
    "new_table.head()"
   ]
  },
  {
   "cell_type": "code",
   "execution_count": null,
   "metadata": {},
   "outputs": [],
   "source": [
    "\n",
    "players = pd.read_csv('/home/becode/Desktop/5#StoryTelling/data/players.csv')\n",
    "new_table = pd.merge(new_table, players,left_on='player_id', right_on='player_id')\n"
   ]
  },
  {
   "cell_type": "code",
   "execution_count": null,
   "metadata": {},
   "outputs": [],
   "source": [
    "new_table.dtypes"
   ]
  },
  {
   "cell_type": "code",
   "execution_count": null,
   "metadata": {},
   "outputs": [],
   "source": [
    "new_table_full = new_table[new_table['red_cards']>0]\n",
    "len(new_table_full)"
   ]
  },
  {
   "cell_type": "code",
   "execution_count": null,
   "metadata": {},
   "outputs": [],
   "source": [
    "new_calc = new_table_full.groupby('player_name')['red_cards'].sum().sort_values(ascending=False)\n",
    "print(new_calc)"
   ]
  },
  {
   "cell_type": "code",
   "execution_count": null,
   "metadata": {},
   "outputs": [],
   "source": [
    "import matplotlib.pyplot as plt\n",
    "fig, ax = plt.subplots()\n",
    "fig.set_figwidth(18.7)\n",
    "ax.plot(new_calc.keys()[:5], new_calc.values[:5])\n",
    "\n",
    "plt.show()"
   ]
  },
  {
   "cell_type": "code",
   "execution_count": null,
   "metadata": {},
   "outputs": [],
   "source": [
    "new_table_yellow = new_table[new_table['yellow_cards']>0]\n",
    "len(new_table_yellow)\n",
    "new_table_yellow = new_table_yellow.groupby('player_name')['yellow_cards'].sum().sort_values(ascending=False)\n",
    "new_table_yellow.head(20)"
   ]
  },
  {
   "cell_type": "code",
   "execution_count": null,
   "metadata": {},
   "outputs": [],
   "source": [
    "import matplotlib.pyplot as plt\n",
    "\n",
    "plt.hist(new_table_yellow, bins=20)\n",
    "plt.show()"
   ]
  },
  {
   "cell_type": "code",
   "execution_count": null,
   "metadata": {},
   "outputs": [],
   "source": [
    "new_table_full = new_table[(new_table['red_cards']>0) & (new_table['yellow_cards']>0)]\n",
    "len(new_table_full)"
   ]
  },
  {
   "cell_type": "code",
   "execution_count": null,
   "metadata": {},
   "outputs": [],
   "source": [
    "new_calc = new_table.groupby('player_name')[['yellow_cards','red_cards']].sum().sort_values(by=['yellow_cards','red_cards'], ascending=False)\n",
    "print(new_calc)"
   ]
  },
  {
   "cell_type": "code",
   "execution_count": null,
   "metadata": {},
   "outputs": [],
   "source": [
    "new_calc = new_table.groupby('player_name')[['yellow_cards','red_cards']].sum().sort_values(by=['yellow_cards','red_cards'], ascending=False)\n",
    "print(new_calc)"
   ]
  },
  {
   "cell_type": "code",
   "execution_count": null,
   "metadata": {},
   "outputs": [],
   "source": [
    "new_table_full.groupby(['yellow_cards','red_cards','player_name']).value_counts(sort=True, ascending=False, subset=['minutes_played']).head()\n"
   ]
  },
  {
   "cell_type": "code",
   "execution_count": null,
   "metadata": {},
   "outputs": [],
   "source": [
    "import matplotlib.pyplot as plt\n",
    "\n",
    "plt.scatter(new_table_full['player_name'], new_table_full['red_cards'])\n",
    "plt.show()"
   ]
  },
  {
   "cell_type": "code",
   "execution_count": null,
   "metadata": {},
   "outputs": [],
   "source": [
    "\n",
    "new_group_away = new_table[new_table['hosting']=='Away']\n",
    "new_group = new_group_away.groupby(['yellow_cards','red_cards']).sum(numeric_only=True).value_counts()\n",
    "new_group"
   ]
  },
  {
   "cell_type": "code",
   "execution_count": null,
   "metadata": {},
   "outputs": [],
   "source": [
    "new_group.dtypes"
   ]
  },
  {
   "cell_type": "code",
   "execution_count": null,
   "metadata": {},
   "outputs": [],
   "source": [
    "\n",
    "new_group_home = new_table[new_table['hosting']=='Home']\n",
    "new_group = new_group_home.groupby(['yellow_cards','red_cards']).sum(numeric_only=True).value_counts()\n"
   ]
  },
  {
   "cell_type": "code",
   "execution_count": null,
   "metadata": {},
   "outputs": [],
   "source": [
    "new_group = new_table.groupby(['yellow_cards','red_cards'])\n",
    "new_group.sum(numeric_only=True).value_counts()"
   ]
  },
  {
   "cell_type": "code",
   "execution_count": null,
   "metadata": {},
   "outputs": [],
   "source": [
    "new_group.mean(numeric_only=True).value_counts()"
   ]
  },
  {
   "cell_type": "code",
   "execution_count": null,
   "metadata": {},
   "outputs": [],
   "source": [
    "new_table_players = new_table[new_table['hosting']=='Home']\n",
    "len(new_table_players)"
   ]
  },
  {
   "cell_type": "code",
   "execution_count": null,
   "metadata": {},
   "outputs": [],
   "source": [
    "new_table_players_away = new_table[new_table['hosting']=='Away']\n",
    "len(new_table_players_away)"
   ]
  },
  {
   "cell_type": "code",
   "execution_count": null,
   "metadata": {},
   "outputs": [],
   "source": [
    "import matplotlib.pyplot as plt\n",
    "plt.pie(new_group.mean(numeric_only=True).value_counts(normalize=True))\n",
    "\n",
    "plt.show()"
   ]
  }
 ],
 "metadata": {
  "kernelspec": {
   "display_name": "Python 3",
   "language": "python",
   "name": "python3"
  },
  "language_info": {
   "codemirror_mode": {
    "name": "ipython",
    "version": 3
   },
   "file_extension": ".py",
   "mimetype": "text/x-python",
   "name": "python",
   "nbconvert_exporter": "python",
   "pygments_lexer": "ipython3",
   "version": "3.8.10"
  },
  "orig_nbformat": 4
 },
 "nbformat": 4,
 "nbformat_minor": 2
}
